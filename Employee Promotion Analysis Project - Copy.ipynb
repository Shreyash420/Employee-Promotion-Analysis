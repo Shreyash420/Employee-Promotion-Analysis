{
 "cells": [
  {
   "cell_type": "markdown",
   "metadata": {},
   "source": [
    "## <center>Predict whether the Employee of an Organization should get Promotion or Not?</center>\n",
    "\n",
    "&nbsp;\n",
    "\n",
    "Your client is a large MNC and they have 9 broad verticals across the organisation. One of the problem your client is facing is around identifying the right people for promotion (only for manager position and below) and prepare them in time. Currently the process, they are following is:\n",
    "    * They first identify a set of employees based on recommendations/ past performance.\n",
    "    * Selected employees go through the separate training and evaluation program for each vertical. These programs are based on he required skill of each vertical\n",
    "    * At the end of the program, based on various factors such as training performance, an employee gets the promotion\n",
    "\n",
    "![image](https://corehr.files.wordpress.com/2013/02/wrong-promotion1.jpg?w=290)"
   ]
  },
  {
   "cell_type": "markdown",
   "metadata": {},
   "source": [
    "## Importing all the Required Libraries\n",
    "\n",
    "* We Import Numpy, Pandas, Matplot, and Seaborn for Data Analysis and Visualizations\n",
    "* We import ipywidgets, Sweetviz, ppscore for Exploratory Data Analysis\n",
    "* We Import Sklearn, Imblearn for Machine Learning Modelling"
   ]
  },
  {
   "cell_type": "code",
   "execution_count": 1,
   "metadata": {
    "execution": {
     "iopub.execute_input": "2021-09-24T13:21:08.295077Z",
     "iopub.status.busy": "2021-09-24T13:21:08.294172Z",
     "iopub.status.idle": "2021-09-24T13:21:09.966685Z",
     "shell.execute_reply": "2021-09-24T13:21:09.965819Z",
     "shell.execute_reply.started": "2021-09-24T13:21:08.294973Z"
    }
   },
   "outputs": [],
   "source": [
    "# lets import all the required libraries\n",
    "\n",
    "# for mathematical operations\n",
    "import numpy as np\n",
    "# for dataframe operations\n",
    "import pandas as pd\n",
    "\n",
    "# for data visualizations\n",
    "import seaborn as sns\n",
    "import matplotlib.pyplot as plt\n",
    "\n",
    "# for machine learning\n",
    "import sklearn\n",
    "\n",
    "# setting up the size of the figures\n",
    "plt.rcParams['figure.figsize'] = (16, 5)\n",
    "# setting up the style of the plot\n",
    "plt.style.use('fivethirtyeight')"
   ]
  },
  {
   "cell_type": "code",
   "execution_count": 2,
   "metadata": {},
   "outputs": [
    {
     "name": "stdout",
     "output_type": "stream",
     "text": [
      "Requirement already satisfied: imblearn in c:\\users\\shreyash\\appdata\\roaming\\python\\python39\\site-packages (0.0)\n",
      "Requirement already satisfied: imbalanced-learn in c:\\users\\shreyash\\appdata\\roaming\\python\\python39\\site-packages (from imblearn) (0.9.1)\n",
      "Requirement already satisfied: joblib>=1.0.0 in c:\\users\\shreyash\\anaconda3\\lib\\site-packages (from imbalanced-learn->imblearn) (1.1.0)\n",
      "Requirement already satisfied: scikit-learn>=1.1.0 in c:\\users\\shreyash\\appdata\\roaming\\python\\python39\\site-packages (from imbalanced-learn->imblearn) (1.1.2)\n",
      "Requirement already satisfied: scipy>=1.3.2 in c:\\users\\shreyash\\anaconda3\\lib\\site-packages (from imbalanced-learn->imblearn) (1.7.3)\n",
      "Requirement already satisfied: numpy>=1.17.3 in c:\\users\\shreyash\\anaconda3\\lib\\site-packages (from imbalanced-learn->imblearn) (1.21.5)\n",
      "Requirement already satisfied: threadpoolctl>=2.0.0 in c:\\users\\shreyash\\anaconda3\\lib\\site-packages (from imbalanced-learn->imblearn) (2.2.0)\n"
     ]
    }
   ],
   "source": [
    "# import imblearn\n",
    "! pip install imblearn --user"
   ]
  },
  {
   "cell_type": "markdown",
   "metadata": {},
   "source": [
    "## Reading the Dataset\n",
    "\n",
    "* Here, we are having two datasets, i.e., Training and Testing Datasets\n",
    "* We will read both the datasets \n",
    "* Training Datasets is used to train the Machine learning Models\n",
    "* After learning the patterns from the Testing Datasets, We have to predict the Target Variable."
   ]
  },
  {
   "cell_type": "code",
   "execution_count": 3,
   "metadata": {
    "execution": {
     "iopub.execute_input": "2021-09-24T13:21:09.968621Z",
     "iopub.status.busy": "2021-09-24T13:21:09.968386Z",
     "iopub.status.idle": "2021-09-24T13:21:09.973779Z",
     "shell.execute_reply": "2021-09-24T13:21:09.972884Z",
     "shell.execute_reply.started": "2021-09-24T13:21:09.968595Z"
    }
   },
   "outputs": [],
   "source": [
    "# import os\n",
    "# print(os.listdir(\"\"))\n",
    "# os.getcwd()"
   ]
  },
  {
   "cell_type": "code",
   "execution_count": 4,
   "metadata": {
    "execution": {
     "iopub.execute_input": "2021-09-24T13:21:09.975517Z",
     "iopub.status.busy": "2021-09-24T13:21:09.975284Z",
     "iopub.status.idle": "2021-09-24T13:21:10.225077Z",
     "shell.execute_reply": "2021-09-24T13:21:10.224130Z",
     "shell.execute_reply.started": "2021-09-24T13:21:09.975491Z"
    }
   },
   "outputs": [],
   "source": [
    "# reading the datasets\n",
    "\n",
    "train = pd.read_csv('train.csv')\n",
    "test = pd.read_csv('test.csv')"
   ]
  },
  {
   "cell_type": "markdown",
   "metadata": {},
   "source": [
    "## Examining the Data\n",
    "\n",
    "* This is an Important Step in Data Science and Machine Learning to ensure about the columns, and rows present.\n",
    "* First, we will check the shape of the dataset\n",
    "* Second, we will check the head, tail, and sample of the datasets\n",
    "* Third, we will check the Data Description\n",
    "* Then, we will check the Data Types of the columns present in the data.\n",
    "* Atlast, we will check the Target Class Balance"
   ]
  },
  {
   "cell_type": "code",
   "execution_count": 5,
   "metadata": {
    "execution": {
     "iopub.execute_input": "2021-09-24T13:21:10.228867Z",
     "iopub.status.busy": "2021-09-24T13:21:10.228528Z",
     "iopub.status.idle": "2021-09-24T13:21:10.236961Z",
     "shell.execute_reply": "2021-09-24T13:21:10.235738Z",
     "shell.execute_reply.started": "2021-09-24T13:21:10.228825Z"
    }
   },
   "outputs": [
    {
     "name": "stdout",
     "output_type": "stream",
     "text": [
      "Shape of the Training Data : (54808, 14)\n",
      "Shape of the Test Data : (23490, 13)\n"
     ]
    }
   ],
   "source": [
    "# lets check the shape of the train and test datasets\n",
    "print(\"Shape of the Training Data :\", train.shape)\n",
    "print(\"Shape of the Test Data :\", test.shape)"
   ]
  },
  {
   "cell_type": "code",
   "execution_count": 6,
   "metadata": {
    "execution": {
     "iopub.execute_input": "2021-09-24T13:21:10.238934Z",
     "iopub.status.busy": "2021-09-24T13:21:10.238560Z",
     "iopub.status.idle": "2021-09-24T13:21:10.255982Z",
     "shell.execute_reply": "2021-09-24T13:21:10.255060Z",
     "shell.execute_reply.started": "2021-09-24T13:21:10.238886Z"
    }
   },
   "outputs": [
    {
     "data": {
      "text/plain": [
       "Index(['employee_id', 'department', 'region', 'education', 'gender',\n",
       "       'recruitment_channel', 'no_of_trainings', 'age', 'previous_year_rating',\n",
       "       'length_of_service', 'KPIs_met >80%', 'awards_won?',\n",
       "       'avg_training_score', 'is_promoted'],\n",
       "      dtype='object')"
      ]
     },
     "execution_count": 6,
     "metadata": {},
     "output_type": "execute_result"
    }
   ],
   "source": [
    "# columns in Training Data\n",
    "train.columns"
   ]
  },
  {
   "cell_type": "code",
   "execution_count": 7,
   "metadata": {
    "execution": {
     "iopub.execute_input": "2021-09-24T13:21:10.257722Z",
     "iopub.status.busy": "2021-09-24T13:21:10.257499Z",
     "iopub.status.idle": "2021-09-24T13:21:10.273758Z",
     "shell.execute_reply": "2021-09-24T13:21:10.272638Z",
     "shell.execute_reply.started": "2021-09-24T13:21:10.257697Z"
    }
   },
   "outputs": [
    {
     "data": {
      "text/plain": [
       "Index(['employee_id', 'department', 'region', 'education', 'gender',\n",
       "       'recruitment_channel', 'no_of_trainings', 'age', 'previous_year_rating',\n",
       "       'length_of_service', 'KPIs_met >80%', 'awards_won?',\n",
       "       'avg_training_score'],\n",
       "      dtype='object')"
      ]
     },
     "execution_count": 7,
     "metadata": {},
     "output_type": "execute_result"
    }
   ],
   "source": [
    "# columns in Testing Data\n",
    "test.columns"
   ]
  },
  {
   "cell_type": "code",
   "execution_count": 8,
   "metadata": {
    "execution": {
     "iopub.execute_input": "2021-09-24T13:21:10.275754Z",
     "iopub.status.busy": "2021-09-24T13:21:10.275487Z",
     "iopub.status.idle": "2021-09-24T13:21:10.306145Z",
     "shell.execute_reply": "2021-09-24T13:21:10.305160Z",
     "shell.execute_reply.started": "2021-09-24T13:21:10.275723Z"
    }
   },
   "outputs": [
    {
     "data": {
      "text/html": [
       "<div>\n",
       "<style scoped>\n",
       "    .dataframe tbody tr th:only-of-type {\n",
       "        vertical-align: middle;\n",
       "    }\n",
       "\n",
       "    .dataframe tbody tr th {\n",
       "        vertical-align: top;\n",
       "    }\n",
       "\n",
       "    .dataframe thead th {\n",
       "        text-align: right;\n",
       "    }\n",
       "</style>\n",
       "<table border=\"1\" class=\"dataframe\">\n",
       "  <thead>\n",
       "    <tr style=\"text-align: right;\">\n",
       "      <th></th>\n",
       "      <th>employee_id</th>\n",
       "      <th>department</th>\n",
       "      <th>region</th>\n",
       "      <th>education</th>\n",
       "      <th>gender</th>\n",
       "      <th>recruitment_channel</th>\n",
       "      <th>no_of_trainings</th>\n",
       "      <th>age</th>\n",
       "      <th>previous_year_rating</th>\n",
       "      <th>length_of_service</th>\n",
       "      <th>KPIs_met &gt;80%</th>\n",
       "      <th>awards_won?</th>\n",
       "      <th>avg_training_score</th>\n",
       "      <th>is_promoted</th>\n",
       "    </tr>\n",
       "  </thead>\n",
       "  <tbody>\n",
       "    <tr>\n",
       "      <th>0</th>\n",
       "      <td>65438</td>\n",
       "      <td>Sales &amp; Marketing</td>\n",
       "      <td>region_7</td>\n",
       "      <td>Master's &amp; above</td>\n",
       "      <td>f</td>\n",
       "      <td>sourcing</td>\n",
       "      <td>1</td>\n",
       "      <td>35</td>\n",
       "      <td>5.0</td>\n",
       "      <td>8</td>\n",
       "      <td>1</td>\n",
       "      <td>0</td>\n",
       "      <td>49</td>\n",
       "      <td>0</td>\n",
       "    </tr>\n",
       "    <tr>\n",
       "      <th>1</th>\n",
       "      <td>65141</td>\n",
       "      <td>Operations</td>\n",
       "      <td>region_22</td>\n",
       "      <td>Bachelor's</td>\n",
       "      <td>m</td>\n",
       "      <td>other</td>\n",
       "      <td>1</td>\n",
       "      <td>30</td>\n",
       "      <td>5.0</td>\n",
       "      <td>4</td>\n",
       "      <td>0</td>\n",
       "      <td>0</td>\n",
       "      <td>60</td>\n",
       "      <td>0</td>\n",
       "    </tr>\n",
       "    <tr>\n",
       "      <th>2</th>\n",
       "      <td>7513</td>\n",
       "      <td>Sales &amp; Marketing</td>\n",
       "      <td>region_19</td>\n",
       "      <td>Bachelor's</td>\n",
       "      <td>m</td>\n",
       "      <td>sourcing</td>\n",
       "      <td>1</td>\n",
       "      <td>34</td>\n",
       "      <td>3.0</td>\n",
       "      <td>7</td>\n",
       "      <td>0</td>\n",
       "      <td>0</td>\n",
       "      <td>50</td>\n",
       "      <td>0</td>\n",
       "    </tr>\n",
       "    <tr>\n",
       "      <th>3</th>\n",
       "      <td>2542</td>\n",
       "      <td>Sales &amp; Marketing</td>\n",
       "      <td>region_23</td>\n",
       "      <td>Bachelor's</td>\n",
       "      <td>m</td>\n",
       "      <td>other</td>\n",
       "      <td>2</td>\n",
       "      <td>39</td>\n",
       "      <td>1.0</td>\n",
       "      <td>10</td>\n",
       "      <td>0</td>\n",
       "      <td>0</td>\n",
       "      <td>50</td>\n",
       "      <td>0</td>\n",
       "    </tr>\n",
       "    <tr>\n",
       "      <th>4</th>\n",
       "      <td>48945</td>\n",
       "      <td>Technology</td>\n",
       "      <td>region_26</td>\n",
       "      <td>Bachelor's</td>\n",
       "      <td>m</td>\n",
       "      <td>other</td>\n",
       "      <td>1</td>\n",
       "      <td>45</td>\n",
       "      <td>3.0</td>\n",
       "      <td>2</td>\n",
       "      <td>0</td>\n",
       "      <td>0</td>\n",
       "      <td>73</td>\n",
       "      <td>0</td>\n",
       "    </tr>\n",
       "  </tbody>\n",
       "</table>\n",
       "</div>"
      ],
      "text/plain": [
       "   employee_id         department     region         education gender  \\\n",
       "0        65438  Sales & Marketing   region_7  Master's & above      f   \n",
       "1        65141         Operations  region_22        Bachelor's      m   \n",
       "2         7513  Sales & Marketing  region_19        Bachelor's      m   \n",
       "3         2542  Sales & Marketing  region_23        Bachelor's      m   \n",
       "4        48945         Technology  region_26        Bachelor's      m   \n",
       "\n",
       "  recruitment_channel  no_of_trainings  age  previous_year_rating  \\\n",
       "0            sourcing                1   35                   5.0   \n",
       "1               other                1   30                   5.0   \n",
       "2            sourcing                1   34                   3.0   \n",
       "3               other                2   39                   1.0   \n",
       "4               other                1   45                   3.0   \n",
       "\n",
       "   length_of_service  KPIs_met >80%  awards_won?  avg_training_score  \\\n",
       "0                  8              1            0                  49   \n",
       "1                  4              0            0                  60   \n",
       "2                  7              0            0                  50   \n",
       "3                 10              0            0                  50   \n",
       "4                  2              0            0                  73   \n",
       "\n",
       "   is_promoted  \n",
       "0            0  \n",
       "1            0  \n",
       "2            0  \n",
       "3            0  \n",
       "4            0  "
      ]
     },
     "execution_count": 8,
     "metadata": {},
     "output_type": "execute_result"
    }
   ],
   "source": [
    "# lets check the head of the dataset\n",
    "train.head()"
   ]
  },
  {
   "cell_type": "code",
   "execution_count": 9,
   "metadata": {
    "execution": {
     "iopub.execute_input": "2021-09-24T13:21:10.308692Z",
     "iopub.status.busy": "2021-09-24T13:21:10.307986Z",
     "iopub.status.idle": "2021-09-24T13:21:10.324329Z",
     "shell.execute_reply": "2021-09-24T13:21:10.323488Z",
     "shell.execute_reply.started": "2021-09-24T13:21:10.308646Z"
    }
   },
   "outputs": [
    {
     "data": {
      "text/html": [
       "<div>\n",
       "<style scoped>\n",
       "    .dataframe tbody tr th:only-of-type {\n",
       "        vertical-align: middle;\n",
       "    }\n",
       "\n",
       "    .dataframe tbody tr th {\n",
       "        vertical-align: top;\n",
       "    }\n",
       "\n",
       "    .dataframe thead th {\n",
       "        text-align: right;\n",
       "    }\n",
       "</style>\n",
       "<table border=\"1\" class=\"dataframe\">\n",
       "  <thead>\n",
       "    <tr style=\"text-align: right;\">\n",
       "      <th></th>\n",
       "      <th>employee_id</th>\n",
       "      <th>department</th>\n",
       "      <th>region</th>\n",
       "      <th>education</th>\n",
       "      <th>gender</th>\n",
       "      <th>recruitment_channel</th>\n",
       "      <th>no_of_trainings</th>\n",
       "      <th>age</th>\n",
       "      <th>previous_year_rating</th>\n",
       "      <th>length_of_service</th>\n",
       "      <th>KPIs_met &gt;80%</th>\n",
       "      <th>awards_won?</th>\n",
       "      <th>avg_training_score</th>\n",
       "    </tr>\n",
       "  </thead>\n",
       "  <tbody>\n",
       "    <tr>\n",
       "      <th>0</th>\n",
       "      <td>8724</td>\n",
       "      <td>Technology</td>\n",
       "      <td>region_26</td>\n",
       "      <td>Bachelor's</td>\n",
       "      <td>m</td>\n",
       "      <td>sourcing</td>\n",
       "      <td>1</td>\n",
       "      <td>24</td>\n",
       "      <td>NaN</td>\n",
       "      <td>1</td>\n",
       "      <td>1</td>\n",
       "      <td>0</td>\n",
       "      <td>77</td>\n",
       "    </tr>\n",
       "    <tr>\n",
       "      <th>1</th>\n",
       "      <td>74430</td>\n",
       "      <td>HR</td>\n",
       "      <td>region_4</td>\n",
       "      <td>Bachelor's</td>\n",
       "      <td>f</td>\n",
       "      <td>other</td>\n",
       "      <td>1</td>\n",
       "      <td>31</td>\n",
       "      <td>3.0</td>\n",
       "      <td>5</td>\n",
       "      <td>0</td>\n",
       "      <td>0</td>\n",
       "      <td>51</td>\n",
       "    </tr>\n",
       "    <tr>\n",
       "      <th>2</th>\n",
       "      <td>72255</td>\n",
       "      <td>Sales &amp; Marketing</td>\n",
       "      <td>region_13</td>\n",
       "      <td>Bachelor's</td>\n",
       "      <td>m</td>\n",
       "      <td>other</td>\n",
       "      <td>1</td>\n",
       "      <td>31</td>\n",
       "      <td>1.0</td>\n",
       "      <td>4</td>\n",
       "      <td>0</td>\n",
       "      <td>0</td>\n",
       "      <td>47</td>\n",
       "    </tr>\n",
       "    <tr>\n",
       "      <th>3</th>\n",
       "      <td>38562</td>\n",
       "      <td>Procurement</td>\n",
       "      <td>region_2</td>\n",
       "      <td>Bachelor's</td>\n",
       "      <td>f</td>\n",
       "      <td>other</td>\n",
       "      <td>3</td>\n",
       "      <td>31</td>\n",
       "      <td>2.0</td>\n",
       "      <td>9</td>\n",
       "      <td>0</td>\n",
       "      <td>0</td>\n",
       "      <td>65</td>\n",
       "    </tr>\n",
       "    <tr>\n",
       "      <th>4</th>\n",
       "      <td>64486</td>\n",
       "      <td>Finance</td>\n",
       "      <td>region_29</td>\n",
       "      <td>Bachelor's</td>\n",
       "      <td>m</td>\n",
       "      <td>sourcing</td>\n",
       "      <td>1</td>\n",
       "      <td>30</td>\n",
       "      <td>4.0</td>\n",
       "      <td>7</td>\n",
       "      <td>0</td>\n",
       "      <td>0</td>\n",
       "      <td>61</td>\n",
       "    </tr>\n",
       "  </tbody>\n",
       "</table>\n",
       "</div>"
      ],
      "text/plain": [
       "   employee_id         department     region   education gender  \\\n",
       "0         8724         Technology  region_26  Bachelor's      m   \n",
       "1        74430                 HR   region_4  Bachelor's      f   \n",
       "2        72255  Sales & Marketing  region_13  Bachelor's      m   \n",
       "3        38562        Procurement   region_2  Bachelor's      f   \n",
       "4        64486            Finance  region_29  Bachelor's      m   \n",
       "\n",
       "  recruitment_channel  no_of_trainings  age  previous_year_rating  \\\n",
       "0            sourcing                1   24                   NaN   \n",
       "1               other                1   31                   3.0   \n",
       "2               other                1   31                   1.0   \n",
       "3               other                3   31                   2.0   \n",
       "4            sourcing                1   30                   4.0   \n",
       "\n",
       "   length_of_service  KPIs_met >80%  awards_won?  avg_training_score  \n",
       "0                  1              1            0                  77  \n",
       "1                  5              0            0                  51  \n",
       "2                  4              0            0                  47  \n",
       "3                  9              0            0                  65  \n",
       "4                  7              0            0                  61  "
      ]
     },
     "execution_count": 9,
     "metadata": {},
     "output_type": "execute_result"
    }
   ],
   "source": [
    "# lets check the head of the test data\n",
    "test.head()"
   ]
  },
  {
   "cell_type": "code",
   "execution_count": 10,
   "metadata": {
    "execution": {
     "iopub.execute_input": "2021-09-24T13:21:10.326601Z",
     "iopub.status.busy": "2021-09-24T13:21:10.326054Z",
     "iopub.status.idle": "2021-09-24T13:21:10.355627Z",
     "shell.execute_reply": "2021-09-24T13:21:10.354783Z",
     "shell.execute_reply.started": "2021-09-24T13:21:10.326517Z"
    }
   },
   "outputs": [
    {
     "data": {
      "text/html": [
       "<div>\n",
       "<style scoped>\n",
       "    .dataframe tbody tr th:only-of-type {\n",
       "        vertical-align: middle;\n",
       "    }\n",
       "\n",
       "    .dataframe tbody tr th {\n",
       "        vertical-align: top;\n",
       "    }\n",
       "\n",
       "    .dataframe thead th {\n",
       "        text-align: right;\n",
       "    }\n",
       "</style>\n",
       "<table border=\"1\" class=\"dataframe\">\n",
       "  <thead>\n",
       "    <tr style=\"text-align: right;\">\n",
       "      <th></th>\n",
       "      <th>employee_id</th>\n",
       "      <th>department</th>\n",
       "      <th>region</th>\n",
       "      <th>education</th>\n",
       "      <th>gender</th>\n",
       "      <th>recruitment_channel</th>\n",
       "      <th>no_of_trainings</th>\n",
       "      <th>age</th>\n",
       "      <th>previous_year_rating</th>\n",
       "      <th>length_of_service</th>\n",
       "      <th>KPIs_met &gt;80%</th>\n",
       "      <th>awards_won?</th>\n",
       "      <th>avg_training_score</th>\n",
       "      <th>is_promoted</th>\n",
       "    </tr>\n",
       "  </thead>\n",
       "  <tbody>\n",
       "    <tr>\n",
       "      <th>54803</th>\n",
       "      <td>3030</td>\n",
       "      <td>Technology</td>\n",
       "      <td>region_14</td>\n",
       "      <td>Bachelor's</td>\n",
       "      <td>m</td>\n",
       "      <td>sourcing</td>\n",
       "      <td>1</td>\n",
       "      <td>48</td>\n",
       "      <td>3.0</td>\n",
       "      <td>17</td>\n",
       "      <td>0</td>\n",
       "      <td>0</td>\n",
       "      <td>78</td>\n",
       "      <td>0</td>\n",
       "    </tr>\n",
       "    <tr>\n",
       "      <th>54804</th>\n",
       "      <td>74592</td>\n",
       "      <td>Operations</td>\n",
       "      <td>region_27</td>\n",
       "      <td>Master's &amp; above</td>\n",
       "      <td>f</td>\n",
       "      <td>other</td>\n",
       "      <td>1</td>\n",
       "      <td>37</td>\n",
       "      <td>2.0</td>\n",
       "      <td>6</td>\n",
       "      <td>0</td>\n",
       "      <td>0</td>\n",
       "      <td>56</td>\n",
       "      <td>0</td>\n",
       "    </tr>\n",
       "    <tr>\n",
       "      <th>54805</th>\n",
       "      <td>13918</td>\n",
       "      <td>Analytics</td>\n",
       "      <td>region_1</td>\n",
       "      <td>Bachelor's</td>\n",
       "      <td>m</td>\n",
       "      <td>other</td>\n",
       "      <td>1</td>\n",
       "      <td>27</td>\n",
       "      <td>5.0</td>\n",
       "      <td>3</td>\n",
       "      <td>1</td>\n",
       "      <td>0</td>\n",
       "      <td>79</td>\n",
       "      <td>0</td>\n",
       "    </tr>\n",
       "    <tr>\n",
       "      <th>54806</th>\n",
       "      <td>13614</td>\n",
       "      <td>Sales &amp; Marketing</td>\n",
       "      <td>region_9</td>\n",
       "      <td>NaN</td>\n",
       "      <td>m</td>\n",
       "      <td>sourcing</td>\n",
       "      <td>1</td>\n",
       "      <td>29</td>\n",
       "      <td>1.0</td>\n",
       "      <td>2</td>\n",
       "      <td>0</td>\n",
       "      <td>0</td>\n",
       "      <td>45</td>\n",
       "      <td>0</td>\n",
       "    </tr>\n",
       "    <tr>\n",
       "      <th>54807</th>\n",
       "      <td>51526</td>\n",
       "      <td>HR</td>\n",
       "      <td>region_22</td>\n",
       "      <td>Bachelor's</td>\n",
       "      <td>m</td>\n",
       "      <td>other</td>\n",
       "      <td>1</td>\n",
       "      <td>27</td>\n",
       "      <td>1.0</td>\n",
       "      <td>5</td>\n",
       "      <td>0</td>\n",
       "      <td>0</td>\n",
       "      <td>49</td>\n",
       "      <td>0</td>\n",
       "    </tr>\n",
       "  </tbody>\n",
       "</table>\n",
       "</div>"
      ],
      "text/plain": [
       "       employee_id         department     region         education gender  \\\n",
       "54803         3030         Technology  region_14        Bachelor's      m   \n",
       "54804        74592         Operations  region_27  Master's & above      f   \n",
       "54805        13918          Analytics   region_1        Bachelor's      m   \n",
       "54806        13614  Sales & Marketing   region_9               NaN      m   \n",
       "54807        51526                 HR  region_22        Bachelor's      m   \n",
       "\n",
       "      recruitment_channel  no_of_trainings  age  previous_year_rating  \\\n",
       "54803            sourcing                1   48                   3.0   \n",
       "54804               other                1   37                   2.0   \n",
       "54805               other                1   27                   5.0   \n",
       "54806            sourcing                1   29                   1.0   \n",
       "54807               other                1   27                   1.0   \n",
       "\n",
       "       length_of_service  KPIs_met >80%  awards_won?  avg_training_score  \\\n",
       "54803                 17              0            0                  78   \n",
       "54804                  6              0            0                  56   \n",
       "54805                  3              1            0                  79   \n",
       "54806                  2              0            0                  45   \n",
       "54807                  5              0            0                  49   \n",
       "\n",
       "       is_promoted  \n",
       "54803            0  \n",
       "54804            0  \n",
       "54805            0  \n",
       "54806            0  \n",
       "54807            0  "
      ]
     },
     "execution_count": 10,
     "metadata": {},
     "output_type": "execute_result"
    }
   ],
   "source": [
    "# lets also check the tail of the test data\n",
    "train.tail()"
   ]
  },
  {
   "cell_type": "code",
   "execution_count": 11,
   "metadata": {
    "execution": {
     "iopub.execute_input": "2021-09-24T13:21:10.360705Z",
     "iopub.status.busy": "2021-09-24T13:21:10.359766Z",
     "iopub.status.idle": "2021-09-24T13:21:10.380143Z",
     "shell.execute_reply": "2021-09-24T13:21:10.379114Z",
     "shell.execute_reply.started": "2021-09-24T13:21:10.360658Z"
    }
   },
   "outputs": [
    {
     "data": {
      "text/html": [
       "<div>\n",
       "<style scoped>\n",
       "    .dataframe tbody tr th:only-of-type {\n",
       "        vertical-align: middle;\n",
       "    }\n",
       "\n",
       "    .dataframe tbody tr th {\n",
       "        vertical-align: top;\n",
       "    }\n",
       "\n",
       "    .dataframe thead th {\n",
       "        text-align: right;\n",
       "    }\n",
       "</style>\n",
       "<table border=\"1\" class=\"dataframe\">\n",
       "  <thead>\n",
       "    <tr style=\"text-align: right;\">\n",
       "      <th></th>\n",
       "      <th>employee_id</th>\n",
       "      <th>department</th>\n",
       "      <th>region</th>\n",
       "      <th>education</th>\n",
       "      <th>gender</th>\n",
       "      <th>recruitment_channel</th>\n",
       "      <th>no_of_trainings</th>\n",
       "      <th>age</th>\n",
       "      <th>previous_year_rating</th>\n",
       "      <th>length_of_service</th>\n",
       "      <th>KPIs_met &gt;80%</th>\n",
       "      <th>awards_won?</th>\n",
       "      <th>avg_training_score</th>\n",
       "    </tr>\n",
       "  </thead>\n",
       "  <tbody>\n",
       "    <tr>\n",
       "      <th>23485</th>\n",
       "      <td>53478</td>\n",
       "      <td>Legal</td>\n",
       "      <td>region_2</td>\n",
       "      <td>Below Secondary</td>\n",
       "      <td>m</td>\n",
       "      <td>sourcing</td>\n",
       "      <td>1</td>\n",
       "      <td>24</td>\n",
       "      <td>3.0</td>\n",
       "      <td>1</td>\n",
       "      <td>0</td>\n",
       "      <td>0</td>\n",
       "      <td>61</td>\n",
       "    </tr>\n",
       "    <tr>\n",
       "      <th>23486</th>\n",
       "      <td>25600</td>\n",
       "      <td>Technology</td>\n",
       "      <td>region_25</td>\n",
       "      <td>Bachelor's</td>\n",
       "      <td>m</td>\n",
       "      <td>sourcing</td>\n",
       "      <td>1</td>\n",
       "      <td>31</td>\n",
       "      <td>3.0</td>\n",
       "      <td>7</td>\n",
       "      <td>0</td>\n",
       "      <td>0</td>\n",
       "      <td>74</td>\n",
       "    </tr>\n",
       "    <tr>\n",
       "      <th>23487</th>\n",
       "      <td>45409</td>\n",
       "      <td>HR</td>\n",
       "      <td>region_16</td>\n",
       "      <td>Bachelor's</td>\n",
       "      <td>f</td>\n",
       "      <td>sourcing</td>\n",
       "      <td>1</td>\n",
       "      <td>26</td>\n",
       "      <td>4.0</td>\n",
       "      <td>4</td>\n",
       "      <td>0</td>\n",
       "      <td>0</td>\n",
       "      <td>50</td>\n",
       "    </tr>\n",
       "    <tr>\n",
       "      <th>23488</th>\n",
       "      <td>1186</td>\n",
       "      <td>Procurement</td>\n",
       "      <td>region_31</td>\n",
       "      <td>Bachelor's</td>\n",
       "      <td>m</td>\n",
       "      <td>sourcing</td>\n",
       "      <td>3</td>\n",
       "      <td>27</td>\n",
       "      <td>NaN</td>\n",
       "      <td>1</td>\n",
       "      <td>0</td>\n",
       "      <td>0</td>\n",
       "      <td>70</td>\n",
       "    </tr>\n",
       "    <tr>\n",
       "      <th>23489</th>\n",
       "      <td>5973</td>\n",
       "      <td>Technology</td>\n",
       "      <td>region_17</td>\n",
       "      <td>Master's &amp; above</td>\n",
       "      <td>m</td>\n",
       "      <td>other</td>\n",
       "      <td>3</td>\n",
       "      <td>40</td>\n",
       "      <td>5.0</td>\n",
       "      <td>5</td>\n",
       "      <td>1</td>\n",
       "      <td>0</td>\n",
       "      <td>89</td>\n",
       "    </tr>\n",
       "  </tbody>\n",
       "</table>\n",
       "</div>"
      ],
      "text/plain": [
       "       employee_id   department     region         education gender  \\\n",
       "23485        53478        Legal   region_2   Below Secondary      m   \n",
       "23486        25600   Technology  region_25        Bachelor's      m   \n",
       "23487        45409           HR  region_16        Bachelor's      f   \n",
       "23488         1186  Procurement  region_31        Bachelor's      m   \n",
       "23489         5973   Technology  region_17  Master's & above      m   \n",
       "\n",
       "      recruitment_channel  no_of_trainings  age  previous_year_rating  \\\n",
       "23485            sourcing                1   24                   3.0   \n",
       "23486            sourcing                1   31                   3.0   \n",
       "23487            sourcing                1   26                   4.0   \n",
       "23488            sourcing                3   27                   NaN   \n",
       "23489               other                3   40                   5.0   \n",
       "\n",
       "       length_of_service  KPIs_met >80%  awards_won?  avg_training_score  \n",
       "23485                  1              0            0                  61  \n",
       "23486                  7              0            0                  74  \n",
       "23487                  4              0            0                  50  \n",
       "23488                  1              0            0                  70  \n",
       "23489                  5              1            0                  89  "
      ]
     },
     "execution_count": 11,
     "metadata": {},
     "output_type": "execute_result"
    }
   ],
   "source": [
    "# lets also check the tail of the test data\n",
    "test.tail()"
   ]
  },
  {
   "cell_type": "markdown",
   "metadata": {},
   "source": [
    "## <center>Data Description</center>\n",
    "\n",
    "<table>\n",
    "    <tr>\n",
    "        <td><b>Variable</b></td>\n",
    "        <td><b>Definition</b></td>\n",
    "    </tr>\n",
    "    <tr>\n",
    "        <td>employee_id</td>\n",
    "        <td>Unique ID for employee<td>\n",
    "    </tr>\n",
    "    <tr>\n",
    "        <td>department</td>\n",
    "        <td>Department of employee</td>\n",
    "    </tr>\n",
    "    <tr>\n",
    "        <td>region</td>\n",
    "        <td>Region of employment (unordered)</td>\n",
    "    </tr>\n",
    "    <tr>\n",
    "        <td>education</td>\n",
    "        <td>Education Level</td>\n",
    "    </tr>\n",
    "    <tr>\n",
    "        <td>gender</td>\n",
    "        <td>Gender of Employee</td>\n",
    "    </tr>\n",
    "    <tr>\n",
    "        <td>recruitment_channel</td>\n",
    "        <td>Channel of recruitment for employee</td>\n",
    "    </tr>\n",
    "    <tr>\n",
    "        <td>no_of_trainings</td>\n",
    "        <td>no of other trainings completed in previous year on soft skills, technical skills etc.</td>\n",
    "    </tr>\n",
    "    <tr>\n",
    "        <td>age</td>\n",
    "        <td>Age of Employee</td>\n",
    "    </tr>\n",
    "    <tr>\n",
    "        <td>previous_year_rating</td>\n",
    "        <td>Employee Rating for the previous year</td>\n",
    "    </tr>\n",
    "    <tr>\n",
    "        <td>length_of_service</td>\n",
    "        <td>Length of service in years</td>\n",
    "    </tr>\n",
    "    <tr>\n",
    "        <td>KPIs_met >80%</td>\n",
    "        <td>if Percent of KPIs(Key performance Indicators) >80% then 1 else 0</td>\n",
    "    </tr>\n",
    "    <tr>\n",
    "        <td>awards_won?</td>\n",
    "        <td>if awards won during previous year then 1 else 0</td>\n",
    "    </tr>\n",
    "    <tr>\n",
    "        <td>avg_training_score</td>\n",
    "        <td>Average score in current training evaluations</td>\n",
    "    </tr>\n",
    "    <tr>\n",
    "        <td>is_promoted\t(Target)</td>\n",
    "        <td>Recommended for promotion</td>\n",
    "    </tr>\n",
    "</table>"
   ]
  },
  {
   "cell_type": "code",
   "execution_count": 12,
   "metadata": {
    "execution": {
     "iopub.execute_input": "2021-09-24T13:21:10.382398Z",
     "iopub.status.busy": "2021-09-24T13:21:10.381544Z",
     "iopub.status.idle": "2021-09-24T13:21:10.416530Z",
     "shell.execute_reply": "2021-09-24T13:21:10.415465Z",
     "shell.execute_reply.started": "2021-09-24T13:21:10.382353Z"
    }
   },
   "outputs": [
    {
     "data": {
      "text/plain": [
       "Sales & Marketing    16840\n",
       "Operations           11348\n",
       "Technology            7138\n",
       "Procurement           7138\n",
       "Analytics             5352\n",
       "Finance               2536\n",
       "HR                    2418\n",
       "Legal                 1039\n",
       "R&D                    999\n",
       "Name: department, dtype: int64"
      ]
     },
     "execution_count": 12,
     "metadata": {},
     "output_type": "execute_result"
    }
   ],
   "source": [
    "# values in Departments\n",
    "\n",
    "train['department'].value_counts()"
   ]
  },
  {
   "cell_type": "code",
   "execution_count": 13,
   "metadata": {
    "execution": {
     "iopub.execute_input": "2021-09-24T13:21:10.420877Z",
     "iopub.status.busy": "2021-09-24T13:21:10.419583Z",
     "iopub.status.idle": "2021-09-24T13:21:10.439999Z",
     "shell.execute_reply": "2021-09-24T13:21:10.439118Z",
     "shell.execute_reply.started": "2021-09-24T13:21:10.420820Z"
    }
   },
   "outputs": [
    {
     "data": {
      "text/plain": [
       "region_2     12343\n",
       "region_22     6428\n",
       "region_7      4843\n",
       "region_15     2808\n",
       "region_13     2648\n",
       "region_26     2260\n",
       "region_31     1935\n",
       "region_4      1703\n",
       "region_27     1659\n",
       "region_16     1465\n",
       "region_28     1318\n",
       "region_11     1315\n",
       "region_23     1175\n",
       "region_29      994\n",
       "region_32      945\n",
       "region_19      874\n",
       "region_20      850\n",
       "region_14      827\n",
       "region_25      819\n",
       "region_17      796\n",
       "region_5       766\n",
       "region_6       690\n",
       "region_30      657\n",
       "region_8       655\n",
       "region_10      648\n",
       "region_1       610\n",
       "region_24      508\n",
       "region_12      500\n",
       "region_9       420\n",
       "region_21      411\n",
       "region_3       346\n",
       "region_34      292\n",
       "region_33      269\n",
       "region_18       31\n",
       "Name: region, dtype: int64"
      ]
     },
     "execution_count": 13,
     "metadata": {},
     "output_type": "execute_result"
    }
   ],
   "source": [
    "# values in Region\n",
    "\n",
    "train['region'].value_counts()"
   ]
  },
  {
   "cell_type": "markdown",
   "metadata": {},
   "source": [
    "## Descriptive Statistics\n",
    "\n",
    "* Descriptive Statistics is one of the most Important Step to Understand the Data and take out Insights\n",
    "* First we will the Descriptive Statistics for the Numerical Columns\n",
    "* for Numerical Columns we check for stats such as Max, Min, Mean, count, standard deviation, 25 percentile, 50 percentile, and 75 percentile.\n",
    "* Then we will check for the Descriptive Statistics for Categorical Columns\n",
    "* for Categorical Columns we check for stats such as count, frequency, top, and unique elements."
   ]
  },
  {
   "cell_type": "code",
   "execution_count": 14,
   "metadata": {
    "execution": {
     "iopub.execute_input": "2021-09-24T13:21:10.442206Z",
     "iopub.status.busy": "2021-09-24T13:21:10.441403Z",
     "iopub.status.idle": "2021-09-24T13:21:10.590496Z",
     "shell.execute_reply": "2021-09-24T13:21:10.589397Z",
     "shell.execute_reply.started": "2021-09-24T13:21:10.442159Z"
    }
   },
   "outputs": [
    {
     "data": {
      "text/html": [
       "<style type=\"text/css\">\n",
       "#T_ff50d_row0_col0 {\n",
       "  background-color: #dd8c59;\n",
       "  color: #f1f1f1;\n",
       "}\n",
       "#T_ff50d_row0_col1, #T_ff50d_row0_col2, #T_ff50d_row0_col3, #T_ff50d_row0_col4, #T_ff50d_row0_col5, #T_ff50d_row0_col6, #T_ff50d_row0_col7, #T_ff50d_row0_col8, #T_ff50d_row7_col0 {\n",
       "  background-color: #ffc77f;\n",
       "  color: #000000;\n",
       "}\n",
       "#T_ff50d_row1_col0, #T_ff50d_row5_col0 {\n",
       "  background-color: #9e6440;\n",
       "  color: #f1f1f1;\n",
       "}\n",
       "#T_ff50d_row1_col1, #T_ff50d_row1_col2, #T_ff50d_row1_col3, #T_ff50d_row1_col4, #T_ff50d_row1_col5, #T_ff50d_row1_col6, #T_ff50d_row1_col7, #T_ff50d_row1_col8, #T_ff50d_row2_col1, #T_ff50d_row2_col2, #T_ff50d_row2_col3, #T_ff50d_row2_col4, #T_ff50d_row2_col5, #T_ff50d_row2_col6, #T_ff50d_row2_col7, #T_ff50d_row2_col8, #T_ff50d_row3_col0, #T_ff50d_row3_col1, #T_ff50d_row3_col2, #T_ff50d_row3_col3, #T_ff50d_row3_col4, #T_ff50d_row3_col5, #T_ff50d_row3_col6, #T_ff50d_row3_col7, #T_ff50d_row3_col8, #T_ff50d_row4_col1, #T_ff50d_row4_col2, #T_ff50d_row4_col3, #T_ff50d_row4_col4, #T_ff50d_row4_col5, #T_ff50d_row4_col6, #T_ff50d_row4_col7, #T_ff50d_row4_col8, #T_ff50d_row5_col1, #T_ff50d_row5_col2, #T_ff50d_row5_col3, #T_ff50d_row5_col4, #T_ff50d_row5_col5, #T_ff50d_row5_col6, #T_ff50d_row5_col7, #T_ff50d_row5_col8, #T_ff50d_row6_col1, #T_ff50d_row6_col2, #T_ff50d_row6_col3, #T_ff50d_row6_col4, #T_ff50d_row6_col5, #T_ff50d_row6_col6, #T_ff50d_row6_col7, #T_ff50d_row6_col8, #T_ff50d_row7_col1, #T_ff50d_row7_col2, #T_ff50d_row7_col3, #T_ff50d_row7_col4, #T_ff50d_row7_col5, #T_ff50d_row7_col6, #T_ff50d_row7_col7, #T_ff50d_row7_col8 {\n",
       "  background-color: #000000;\n",
       "  color: #f1f1f1;\n",
       "}\n",
       "#T_ff50d_row2_col0 {\n",
       "  background-color: #5a3924;\n",
       "  color: #f1f1f1;\n",
       "}\n",
       "#T_ff50d_row4_col0 {\n",
       "  background-color: #4f3220;\n",
       "  color: #f1f1f1;\n",
       "}\n",
       "#T_ff50d_row6_col0 {\n",
       "  background-color: #ed9660;\n",
       "  color: #f1f1f1;\n",
       "}\n",
       "</style>\n",
       "<table id=\"T_ff50d\">\n",
       "  <thead>\n",
       "    <tr>\n",
       "      <th class=\"blank level0\" >&nbsp;</th>\n",
       "      <th id=\"T_ff50d_level0_col0\" class=\"col_heading level0 col0\" >employee_id</th>\n",
       "      <th id=\"T_ff50d_level0_col1\" class=\"col_heading level0 col1\" >no_of_trainings</th>\n",
       "      <th id=\"T_ff50d_level0_col2\" class=\"col_heading level0 col2\" >age</th>\n",
       "      <th id=\"T_ff50d_level0_col3\" class=\"col_heading level0 col3\" >previous_year_rating</th>\n",
       "      <th id=\"T_ff50d_level0_col4\" class=\"col_heading level0 col4\" >length_of_service</th>\n",
       "      <th id=\"T_ff50d_level0_col5\" class=\"col_heading level0 col5\" >KPIs_met >80%</th>\n",
       "      <th id=\"T_ff50d_level0_col6\" class=\"col_heading level0 col6\" >awards_won?</th>\n",
       "      <th id=\"T_ff50d_level0_col7\" class=\"col_heading level0 col7\" >avg_training_score</th>\n",
       "      <th id=\"T_ff50d_level0_col8\" class=\"col_heading level0 col8\" >is_promoted</th>\n",
       "    </tr>\n",
       "  </thead>\n",
       "  <tbody>\n",
       "    <tr>\n",
       "      <th id=\"T_ff50d_level0_row0\" class=\"row_heading level0 row0\" >count</th>\n",
       "      <td id=\"T_ff50d_row0_col0\" class=\"data row0 col0\" >54808.000000</td>\n",
       "      <td id=\"T_ff50d_row0_col1\" class=\"data row0 col1\" >54808.000000</td>\n",
       "      <td id=\"T_ff50d_row0_col2\" class=\"data row0 col2\" >54808.000000</td>\n",
       "      <td id=\"T_ff50d_row0_col3\" class=\"data row0 col3\" >50684.000000</td>\n",
       "      <td id=\"T_ff50d_row0_col4\" class=\"data row0 col4\" >54808.000000</td>\n",
       "      <td id=\"T_ff50d_row0_col5\" class=\"data row0 col5\" >54808.000000</td>\n",
       "      <td id=\"T_ff50d_row0_col6\" class=\"data row0 col6\" >54808.000000</td>\n",
       "      <td id=\"T_ff50d_row0_col7\" class=\"data row0 col7\" >54808.000000</td>\n",
       "      <td id=\"T_ff50d_row0_col8\" class=\"data row0 col8\" >54808.000000</td>\n",
       "    </tr>\n",
       "    <tr>\n",
       "      <th id=\"T_ff50d_level0_row1\" class=\"row_heading level0 row1\" >mean</th>\n",
       "      <td id=\"T_ff50d_row1_col0\" class=\"data row1 col0\" >39195.830627</td>\n",
       "      <td id=\"T_ff50d_row1_col1\" class=\"data row1 col1\" >1.253011</td>\n",
       "      <td id=\"T_ff50d_row1_col2\" class=\"data row1 col2\" >34.803915</td>\n",
       "      <td id=\"T_ff50d_row1_col3\" class=\"data row1 col3\" >3.329256</td>\n",
       "      <td id=\"T_ff50d_row1_col4\" class=\"data row1 col4\" >5.865512</td>\n",
       "      <td id=\"T_ff50d_row1_col5\" class=\"data row1 col5\" >0.351974</td>\n",
       "      <td id=\"T_ff50d_row1_col6\" class=\"data row1 col6\" >0.023172</td>\n",
       "      <td id=\"T_ff50d_row1_col7\" class=\"data row1 col7\" >63.386750</td>\n",
       "      <td id=\"T_ff50d_row1_col8\" class=\"data row1 col8\" >0.085170</td>\n",
       "    </tr>\n",
       "    <tr>\n",
       "      <th id=\"T_ff50d_level0_row2\" class=\"row_heading level0 row2\" >std</th>\n",
       "      <td id=\"T_ff50d_row2_col0\" class=\"data row2 col0\" >22586.581449</td>\n",
       "      <td id=\"T_ff50d_row2_col1\" class=\"data row2 col1\" >0.609264</td>\n",
       "      <td id=\"T_ff50d_row2_col2\" class=\"data row2 col2\" >7.660169</td>\n",
       "      <td id=\"T_ff50d_row2_col3\" class=\"data row2 col3\" >1.259993</td>\n",
       "      <td id=\"T_ff50d_row2_col4\" class=\"data row2 col4\" >4.265094</td>\n",
       "      <td id=\"T_ff50d_row2_col5\" class=\"data row2 col5\" >0.477590</td>\n",
       "      <td id=\"T_ff50d_row2_col6\" class=\"data row2 col6\" >0.150450</td>\n",
       "      <td id=\"T_ff50d_row2_col7\" class=\"data row2 col7\" >13.371559</td>\n",
       "      <td id=\"T_ff50d_row2_col8\" class=\"data row2 col8\" >0.279137</td>\n",
       "    </tr>\n",
       "    <tr>\n",
       "      <th id=\"T_ff50d_level0_row3\" class=\"row_heading level0 row3\" >min</th>\n",
       "      <td id=\"T_ff50d_row3_col0\" class=\"data row3 col0\" >1.000000</td>\n",
       "      <td id=\"T_ff50d_row3_col1\" class=\"data row3 col1\" >1.000000</td>\n",
       "      <td id=\"T_ff50d_row3_col2\" class=\"data row3 col2\" >20.000000</td>\n",
       "      <td id=\"T_ff50d_row3_col3\" class=\"data row3 col3\" >1.000000</td>\n",
       "      <td id=\"T_ff50d_row3_col4\" class=\"data row3 col4\" >1.000000</td>\n",
       "      <td id=\"T_ff50d_row3_col5\" class=\"data row3 col5\" >0.000000</td>\n",
       "      <td id=\"T_ff50d_row3_col6\" class=\"data row3 col6\" >0.000000</td>\n",
       "      <td id=\"T_ff50d_row3_col7\" class=\"data row3 col7\" >39.000000</td>\n",
       "      <td id=\"T_ff50d_row3_col8\" class=\"data row3 col8\" >0.000000</td>\n",
       "    </tr>\n",
       "    <tr>\n",
       "      <th id=\"T_ff50d_level0_row4\" class=\"row_heading level0 row4\" >25%</th>\n",
       "      <td id=\"T_ff50d_row4_col0\" class=\"data row4 col0\" >19669.750000</td>\n",
       "      <td id=\"T_ff50d_row4_col1\" class=\"data row4 col1\" >1.000000</td>\n",
       "      <td id=\"T_ff50d_row4_col2\" class=\"data row4 col2\" >29.000000</td>\n",
       "      <td id=\"T_ff50d_row4_col3\" class=\"data row4 col3\" >3.000000</td>\n",
       "      <td id=\"T_ff50d_row4_col4\" class=\"data row4 col4\" >3.000000</td>\n",
       "      <td id=\"T_ff50d_row4_col5\" class=\"data row4 col5\" >0.000000</td>\n",
       "      <td id=\"T_ff50d_row4_col6\" class=\"data row4 col6\" >0.000000</td>\n",
       "      <td id=\"T_ff50d_row4_col7\" class=\"data row4 col7\" >51.000000</td>\n",
       "      <td id=\"T_ff50d_row4_col8\" class=\"data row4 col8\" >0.000000</td>\n",
       "    </tr>\n",
       "    <tr>\n",
       "      <th id=\"T_ff50d_level0_row5\" class=\"row_heading level0 row5\" >50%</th>\n",
       "      <td id=\"T_ff50d_row5_col0\" class=\"data row5 col0\" >39225.500000</td>\n",
       "      <td id=\"T_ff50d_row5_col1\" class=\"data row5 col1\" >1.000000</td>\n",
       "      <td id=\"T_ff50d_row5_col2\" class=\"data row5 col2\" >33.000000</td>\n",
       "      <td id=\"T_ff50d_row5_col3\" class=\"data row5 col3\" >3.000000</td>\n",
       "      <td id=\"T_ff50d_row5_col4\" class=\"data row5 col4\" >5.000000</td>\n",
       "      <td id=\"T_ff50d_row5_col5\" class=\"data row5 col5\" >0.000000</td>\n",
       "      <td id=\"T_ff50d_row5_col6\" class=\"data row5 col6\" >0.000000</td>\n",
       "      <td id=\"T_ff50d_row5_col7\" class=\"data row5 col7\" >60.000000</td>\n",
       "      <td id=\"T_ff50d_row5_col8\" class=\"data row5 col8\" >0.000000</td>\n",
       "    </tr>\n",
       "    <tr>\n",
       "      <th id=\"T_ff50d_level0_row6\" class=\"row_heading level0 row6\" >75%</th>\n",
       "      <td id=\"T_ff50d_row6_col0\" class=\"data row6 col0\" >58730.500000</td>\n",
       "      <td id=\"T_ff50d_row6_col1\" class=\"data row6 col1\" >1.000000</td>\n",
       "      <td id=\"T_ff50d_row6_col2\" class=\"data row6 col2\" >39.000000</td>\n",
       "      <td id=\"T_ff50d_row6_col3\" class=\"data row6 col3\" >4.000000</td>\n",
       "      <td id=\"T_ff50d_row6_col4\" class=\"data row6 col4\" >7.000000</td>\n",
       "      <td id=\"T_ff50d_row6_col5\" class=\"data row6 col5\" >1.000000</td>\n",
       "      <td id=\"T_ff50d_row6_col6\" class=\"data row6 col6\" >0.000000</td>\n",
       "      <td id=\"T_ff50d_row6_col7\" class=\"data row6 col7\" >76.000000</td>\n",
       "      <td id=\"T_ff50d_row6_col8\" class=\"data row6 col8\" >0.000000</td>\n",
       "    </tr>\n",
       "    <tr>\n",
       "      <th id=\"T_ff50d_level0_row7\" class=\"row_heading level0 row7\" >max</th>\n",
       "      <td id=\"T_ff50d_row7_col0\" class=\"data row7 col0\" >78298.000000</td>\n",
       "      <td id=\"T_ff50d_row7_col1\" class=\"data row7 col1\" >10.000000</td>\n",
       "      <td id=\"T_ff50d_row7_col2\" class=\"data row7 col2\" >60.000000</td>\n",
       "      <td id=\"T_ff50d_row7_col3\" class=\"data row7 col3\" >5.000000</td>\n",
       "      <td id=\"T_ff50d_row7_col4\" class=\"data row7 col4\" >37.000000</td>\n",
       "      <td id=\"T_ff50d_row7_col5\" class=\"data row7 col5\" >1.000000</td>\n",
       "      <td id=\"T_ff50d_row7_col6\" class=\"data row7 col6\" >1.000000</td>\n",
       "      <td id=\"T_ff50d_row7_col7\" class=\"data row7 col7\" >99.000000</td>\n",
       "      <td id=\"T_ff50d_row7_col8\" class=\"data row7 col8\" >1.000000</td>\n",
       "    </tr>\n",
       "  </tbody>\n",
       "</table>\n"
      ],
      "text/plain": [
       "<pandas.io.formats.style.Styler at 0x21c43662e20>"
      ]
     },
     "execution_count": 14,
     "metadata": {},
     "output_type": "execute_result"
    }
   ],
   "source": [
    "# lets check descriptive statistics for numerical columns\n",
    "train.describe().style.background_gradient(cmap = 'copper')"
   ]
  },
  {
   "cell_type": "raw",
   "metadata": {},
   "source": [
    "It is quite clear that we are not having Outliers in our Dataset, the average training score for most of the Employee lie between 40 to 100, which is a very good distribution, also th mean is 50.\n",
    "\n",
    "Also, the Length of service, is not having very disruptive values, so we can keep them for model training. they are not going to harm us a lot."
   ]
  },
  {
   "cell_type": "code",
   "execution_count": 15,
   "metadata": {
    "execution": {
     "iopub.execute_input": "2021-09-24T13:21:10.592043Z",
     "iopub.status.busy": "2021-09-24T13:21:10.591807Z",
     "iopub.status.idle": "2021-09-24T13:21:10.679997Z",
     "shell.execute_reply": "2021-09-24T13:21:10.679119Z",
     "shell.execute_reply.started": "2021-09-24T13:21:10.592017Z"
    }
   },
   "outputs": [
    {
     "data": {
      "text/html": [
       "<div>\n",
       "<style scoped>\n",
       "    .dataframe tbody tr th:only-of-type {\n",
       "        vertical-align: middle;\n",
       "    }\n",
       "\n",
       "    .dataframe tbody tr th {\n",
       "        vertical-align: top;\n",
       "    }\n",
       "\n",
       "    .dataframe thead th {\n",
       "        text-align: right;\n",
       "    }\n",
       "</style>\n",
       "<table border=\"1\" class=\"dataframe\">\n",
       "  <thead>\n",
       "    <tr style=\"text-align: right;\">\n",
       "      <th></th>\n",
       "      <th>department</th>\n",
       "      <th>region</th>\n",
       "      <th>education</th>\n",
       "      <th>gender</th>\n",
       "      <th>recruitment_channel</th>\n",
       "    </tr>\n",
       "  </thead>\n",
       "  <tbody>\n",
       "    <tr>\n",
       "      <th>count</th>\n",
       "      <td>54808</td>\n",
       "      <td>54808</td>\n",
       "      <td>52399</td>\n",
       "      <td>54808</td>\n",
       "      <td>54808</td>\n",
       "    </tr>\n",
       "    <tr>\n",
       "      <th>unique</th>\n",
       "      <td>9</td>\n",
       "      <td>34</td>\n",
       "      <td>3</td>\n",
       "      <td>2</td>\n",
       "      <td>3</td>\n",
       "    </tr>\n",
       "    <tr>\n",
       "      <th>top</th>\n",
       "      <td>Sales &amp; Marketing</td>\n",
       "      <td>region_2</td>\n",
       "      <td>Bachelor's</td>\n",
       "      <td>m</td>\n",
       "      <td>other</td>\n",
       "    </tr>\n",
       "    <tr>\n",
       "      <th>freq</th>\n",
       "      <td>16840</td>\n",
       "      <td>12343</td>\n",
       "      <td>36669</td>\n",
       "      <td>38496</td>\n",
       "      <td>30446</td>\n",
       "    </tr>\n",
       "  </tbody>\n",
       "</table>\n",
       "</div>"
      ],
      "text/plain": [
       "               department    region   education gender recruitment_channel\n",
       "count               54808     54808       52399  54808               54808\n",
       "unique                  9        34           3      2                   3\n",
       "top     Sales & Marketing  region_2  Bachelor's      m               other\n",
       "freq                16840     12343       36669  38496               30446"
      ]
     },
     "execution_count": 15,
     "metadata": {},
     "output_type": "execute_result"
    }
   ],
   "source": [
    "# lets check descriptive statistics for categorical columns\n",
    "train.describe(include = 'object')"
   ]
  },
  {
   "cell_type": "code",
   "execution_count": 16,
   "metadata": {
    "execution": {
     "iopub.execute_input": "2021-09-24T13:21:10.681377Z",
     "iopub.status.busy": "2021-09-24T13:21:10.681136Z",
     "iopub.status.idle": "2021-09-24T13:21:11.166705Z",
     "shell.execute_reply": "2021-09-24T13:21:11.165516Z",
     "shell.execute_reply.started": "2021-09-24T13:21:10.681342Z"
    }
   },
   "outputs": [
    {
     "name": "stderr",
     "output_type": "stream",
     "text": [
      "C:\\Users\\shreyash\\anaconda3\\lib\\site-packages\\seaborn\\_decorators.py:36: FutureWarning: Pass the following variable as a keyword arg: x. From version 0.12, the only valid positional argument will be `data`, and passing other arguments without an explicit keyword will result in an error or misinterpretation.\n",
      "  warnings.warn(\n"
     ]
    },
    {
     "data": {
      "image/png": "[encoded data removed]",
      "text/plain": [
       "<Figure size 1080x360 with 2 Axes>"
      ]
     },
     "metadata": {},
     "output_type": "display_data"
    }
   ],
   "source": [
    "# lets check the Target Class Balance\n",
    "\n",
    "plt.rcParams['figure.figsize'] = (15, 5)\n",
    "plt.style.use('fivethirtyeight')\n",
    "\n",
    "plt.subplot(1, 2, 1)\n",
    "sns.countplot(train['is_promoted'],)\n",
    "\n",
    "plt.xlabel('Promoted or Not?', fontsize = 10)\n",
    "\n",
    "plt.subplot(1, 2, 2)\n",
    "train['is_promoted'].value_counts().plot(kind = 'pie', explode = [0, 0.1], autopct = '%.2f%%', startangle = 90,\n",
    "                                       labels = ['1','0'], shadow = True, pctdistance = 0.5)\n",
    "plt.axis('off')\n",
    "\n",
    "plt.suptitle('Target Class Balance', fontsize = 15)\n",
    "plt.show()"
   ]
  },
  {
   "cell_type": "raw",
   "metadata": {},
   "source": [
    "we can easily, see that the Target Class is Highly Imbalanced, and we must balance these classes of Target Class. Most of the Times, when we use Machine Learning Models with Imbalanced Classes, we have very poor Results which are completely biased towards the class having Higher Distribution."
   ]
  },
  {
   "cell_type": "markdown",
   "metadata": {},
   "source": [
    "## Treatment of Missing Values\n",
    "\n",
    "* Treatment of Missing Values is very Important Step in any Machine Learning Model Creation \n",
    "* Missing Values can be cause due to varios reasons such as the filling incomplete forms, values not available, etc\n",
    "* There are so many types of Missing Values such as \n",
    "     * Missing values at Random\n",
    "     * Missing values at not Random\n",
    "     * Missing Values at Completely Random\n",
    "* What can we do to Impute or Treat Missing values to make a Good Machine Learning Model\n",
    "    * We can use Business Logic to Impute the Missing Values\n",
    "    * We can use Statistical Methods such as Mean, Median, and Mode.\n",
    "    * We can use ML Techniques to impute the Missing values\n",
    "    * We can delete the Missing values, when the Missing values percentage is very High.\n",
    "    \n",
    "* When to use Mean, and when to use Median?\n",
    "    * We use Mean, when we do not have Outliers in the dataset for the Numerical Variables.\n",
    "    * We use Median, when we have outliers in the dataset for the Numerical Variables.\n",
    "    * We use Mode, When we have Categorical Variables."
   ]
  },
  {
   "cell_type": "code",
   "execution_count": 17,
   "metadata": {
    "execution": {
     "iopub.execute_input": "2021-09-24T13:21:11.168901Z",
     "iopub.status.busy": "2021-09-24T13:21:11.168541Z",
     "iopub.status.idle": "2021-09-24T13:21:11.288225Z",
     "shell.execute_reply": "2021-09-24T13:21:11.287157Z",
     "shell.execute_reply.started": "2021-09-24T13:21:11.168822Z"
    }
   },
   "outputs": [
    {
     "data": {
      "text/html": [
       "<style type=\"text/css\">\n",
       "#T_627ef_row0_col0, #T_627ef_row0_col1, #T_627ef_row0_col2, #T_627ef_row0_col3, #T_627ef_row1_col0, #T_627ef_row1_col1, #T_627ef_row1_col2, #T_627ef_row1_col3, #T_627ef_row2_col0, #T_627ef_row2_col1, #T_627ef_row2_col2, #T_627ef_row2_col3, #T_627ef_row3_col0, #T_627ef_row3_col1, #T_627ef_row3_col2, #T_627ef_row3_col3, #T_627ef_row4_col0, #T_627ef_row4_col1, #T_627ef_row4_col2, #T_627ef_row4_col3, #T_627ef_row6_col0, #T_627ef_row6_col1, #T_627ef_row6_col2, #T_627ef_row6_col3, #T_627ef_row7_col0, #T_627ef_row7_col1, #T_627ef_row7_col2, #T_627ef_row7_col3, #T_627ef_row8_col0, #T_627ef_row8_col1, #T_627ef_row8_col2, #T_627ef_row8_col3, #T_627ef_row9_col0, #T_627ef_row9_col1, #T_627ef_row9_col2, #T_627ef_row9_col3, #T_627ef_row10_col0, #T_627ef_row10_col1, #T_627ef_row10_col2, #T_627ef_row10_col3, #T_627ef_row12_col0, #T_627ef_row12_col1, #T_627ef_row12_col2, #T_627ef_row12_col3, #T_627ef_row13_col0, #T_627ef_row13_col1, #T_627ef_row13_col2, #T_627ef_row13_col3 {\n",
       "  width: 10em;\n",
       "}\n",
       "#T_627ef_row5_col0 {\n",
       "  width: 10em;\n",
       "  background: linear-gradient(90deg, red 58.4%, transparent 58.4%);\n",
       "}\n",
       "#T_627ef_row5_col1 {\n",
       "  width: 10em;\n",
       "  background: linear-gradient(90deg, red 58.5%, transparent 58.5%);\n",
       "}\n",
       "#T_627ef_row5_col2, #T_627ef_row5_col3 {\n",
       "  width: 10em;\n",
       "  background: linear-gradient(90deg, red 57.1%, transparent 57.1%);\n",
       "}\n",
       "#T_627ef_row11_col0, #T_627ef_row11_col1, #T_627ef_row11_col2, #T_627ef_row11_col3 {\n",
       "  width: 10em;\n",
       "  background: linear-gradient(90deg, red 100.0%, transparent 100.0%);\n",
       "}\n",
       "</style>\n",
       "<table id=\"T_627ef\">\n",
       "  <thead>\n",
       "    <tr>\n",
       "      <th class=\"blank level0\" >&nbsp;</th>\n",
       "      <th id=\"T_627ef_level0_col0\" class=\"col_heading level0 col0\" >Train_Total</th>\n",
       "      <th id=\"T_627ef_level0_col1\" class=\"col_heading level0 col1\" >Train_Percent %</th>\n",
       "      <th id=\"T_627ef_level0_col2\" class=\"col_heading level0 col2\" >Test_Total</th>\n",
       "      <th id=\"T_627ef_level0_col3\" class=\"col_heading level0 col3\" >Test_Percent %</th>\n",
       "    </tr>\n",
       "  </thead>\n",
       "  <tbody>\n",
       "    <tr>\n",
       "      <th id=\"T_627ef_level0_row0\" class=\"row_heading level0 row0\" >KPIs_met >80%</th>\n",
       "      <td id=\"T_627ef_row0_col0\" class=\"data row0 col0\" >0</td>\n",
       "      <td id=\"T_627ef_row0_col1\" class=\"data row0 col1\" >0.000000</td>\n",
       "      <td id=\"T_627ef_row0_col2\" class=\"data row0 col2\" >0.000000</td>\n",
       "      <td id=\"T_627ef_row0_col3\" class=\"data row0 col3\" >0.000000</td>\n",
       "    </tr>\n",
       "    <tr>\n",
       "      <th id=\"T_627ef_level0_row1\" class=\"row_heading level0 row1\" >age</th>\n",
       "      <td id=\"T_627ef_row1_col0\" class=\"data row1 col0\" >0</td>\n",
       "      <td id=\"T_627ef_row1_col1\" class=\"data row1 col1\" >0.000000</td>\n",
       "      <td id=\"T_627ef_row1_col2\" class=\"data row1 col2\" >0.000000</td>\n",
       "      <td id=\"T_627ef_row1_col3\" class=\"data row1 col3\" >0.000000</td>\n",
       "    </tr>\n",
       "    <tr>\n",
       "      <th id=\"T_627ef_level0_row2\" class=\"row_heading level0 row2\" >avg_training_score</th>\n",
       "      <td id=\"T_627ef_row2_col0\" class=\"data row2 col0\" >0</td>\n",
       "      <td id=\"T_627ef_row2_col1\" class=\"data row2 col1\" >0.000000</td>\n",
       "      <td id=\"T_627ef_row2_col2\" class=\"data row2 col2\" >0.000000</td>\n",
       "      <td id=\"T_627ef_row2_col3\" class=\"data row2 col3\" >0.000000</td>\n",
       "    </tr>\n",
       "    <tr>\n",
       "      <th id=\"T_627ef_level0_row3\" class=\"row_heading level0 row3\" >awards_won?</th>\n",
       "      <td id=\"T_627ef_row3_col0\" class=\"data row3 col0\" >0</td>\n",
       "      <td id=\"T_627ef_row3_col1\" class=\"data row3 col1\" >0.000000</td>\n",
       "      <td id=\"T_627ef_row3_col2\" class=\"data row3 col2\" >0.000000</td>\n",
       "      <td id=\"T_627ef_row3_col3\" class=\"data row3 col3\" >0.000000</td>\n",
       "    </tr>\n",
       "    <tr>\n",
       "      <th id=\"T_627ef_level0_row4\" class=\"row_heading level0 row4\" >department</th>\n",
       "      <td id=\"T_627ef_row4_col0\" class=\"data row4 col0\" >0</td>\n",
       "      <td id=\"T_627ef_row4_col1\" class=\"data row4 col1\" >0.000000</td>\n",
       "      <td id=\"T_627ef_row4_col2\" class=\"data row4 col2\" >0.000000</td>\n",
       "      <td id=\"T_627ef_row4_col3\" class=\"data row4 col3\" >0.000000</td>\n",
       "    </tr>\n",
       "    <tr>\n",
       "      <th id=\"T_627ef_level0_row5\" class=\"row_heading level0 row5\" >education</th>\n",
       "      <td id=\"T_627ef_row5_col0\" class=\"data row5 col0\" >2409</td>\n",
       "      <td id=\"T_627ef_row5_col1\" class=\"data row5 col1\" >4.400000</td>\n",
       "      <td id=\"T_627ef_row5_col2\" class=\"data row5 col2\" >1034.000000</td>\n",
       "      <td id=\"T_627ef_row5_col3\" class=\"data row5 col3\" >4.400000</td>\n",
       "    </tr>\n",
       "    <tr>\n",
       "      <th id=\"T_627ef_level0_row6\" class=\"row_heading level0 row6\" >employee_id</th>\n",
       "      <td id=\"T_627ef_row6_col0\" class=\"data row6 col0\" >0</td>\n",
       "      <td id=\"T_627ef_row6_col1\" class=\"data row6 col1\" >0.000000</td>\n",
       "      <td id=\"T_627ef_row6_col2\" class=\"data row6 col2\" >0.000000</td>\n",
       "      <td id=\"T_627ef_row6_col3\" class=\"data row6 col3\" >0.000000</td>\n",
       "    </tr>\n",
       "    <tr>\n",
       "      <th id=\"T_627ef_level0_row7\" class=\"row_heading level0 row7\" >gender</th>\n",
       "      <td id=\"T_627ef_row7_col0\" class=\"data row7 col0\" >0</td>\n",
       "      <td id=\"T_627ef_row7_col1\" class=\"data row7 col1\" >0.000000</td>\n",
       "      <td id=\"T_627ef_row7_col2\" class=\"data row7 col2\" >0.000000</td>\n",
       "      <td id=\"T_627ef_row7_col3\" class=\"data row7 col3\" >0.000000</td>\n",
       "    </tr>\n",
       "    <tr>\n",
       "      <th id=\"T_627ef_level0_row8\" class=\"row_heading level0 row8\" >is_promoted</th>\n",
       "      <td id=\"T_627ef_row8_col0\" class=\"data row8 col0\" >0</td>\n",
       "      <td id=\"T_627ef_row8_col1\" class=\"data row8 col1\" >0.000000</td>\n",
       "      <td id=\"T_627ef_row8_col2\" class=\"data row8 col2\" >nan</td>\n",
       "      <td id=\"T_627ef_row8_col3\" class=\"data row8 col3\" >nan</td>\n",
       "    </tr>\n",
       "    <tr>\n",
       "      <th id=\"T_627ef_level0_row9\" class=\"row_heading level0 row9\" >length_of_service</th>\n",
       "      <td id=\"T_627ef_row9_col0\" class=\"data row9 col0\" >0</td>\n",
       "      <td id=\"T_627ef_row9_col1\" class=\"data row9 col1\" >0.000000</td>\n",
       "      <td id=\"T_627ef_row9_col2\" class=\"data row9 col2\" >0.000000</td>\n",
       "      <td id=\"T_627ef_row9_col3\" class=\"data row9 col3\" >0.000000</td>\n",
       "    </tr>\n",
       "    <tr>\n",
       "      <th id=\"T_627ef_level0_row10\" class=\"row_heading level0 row10\" >no_of_trainings</th>\n",
       "      <td id=\"T_627ef_row10_col0\" class=\"data row10 col0\" >0</td>\n",
       "      <td id=\"T_627ef_row10_col1\" class=\"data row10 col1\" >0.000000</td>\n",
       "      <td id=\"T_627ef_row10_col2\" class=\"data row10 col2\" >0.000000</td>\n",
       "      <td id=\"T_627ef_row10_col3\" class=\"data row10 col3\" >0.000000</td>\n",
       "    </tr>\n",
       "    <tr>\n",
       "      <th id=\"T_627ef_level0_row11\" class=\"row_heading level0 row11\" >previous_year_rating</th>\n",
       "      <td id=\"T_627ef_row11_col0\" class=\"data row11 col0\" >4124</td>\n",
       "      <td id=\"T_627ef_row11_col1\" class=\"data row11 col1\" >7.520000</td>\n",
       "      <td id=\"T_627ef_row11_col2\" class=\"data row11 col2\" >1812.000000</td>\n",
       "      <td id=\"T_627ef_row11_col3\" class=\"data row11 col3\" >7.710000</td>\n",
       "    </tr>\n",
       "    <tr>\n",
       "      <th id=\"T_627ef_level0_row12\" class=\"row_heading level0 row12\" >recruitment_channel</th>\n",
       "      <td id=\"T_627ef_row12_col0\" class=\"data row12 col0\" >0</td>\n",
       "      <td id=\"T_627ef_row12_col1\" class=\"data row12 col1\" >0.000000</td>\n",
       "      <td id=\"T_627ef_row12_col2\" class=\"data row12 col2\" >0.000000</td>\n",
       "      <td id=\"T_627ef_row12_col3\" class=\"data row12 col3\" >0.000000</td>\n",
       "    </tr>\n",
       "    <tr>\n",
       "      <th id=\"T_627ef_level0_row13\" class=\"row_heading level0 row13\" >region</th>\n",
       "      <td id=\"T_627ef_row13_col0\" class=\"data row13 col0\" >0</td>\n",
       "      <td id=\"T_627ef_row13_col1\" class=\"data row13 col1\" >0.000000</td>\n",
       "      <td id=\"T_627ef_row13_col2\" class=\"data row13 col2\" >0.000000</td>\n",
       "      <td id=\"T_627ef_row13_col3\" class=\"data row13 col3\" >0.000000</td>\n",
       "    </tr>\n",
       "  </tbody>\n",
       "</table>\n"
      ],
      "text/plain": [
       "<pandas.io.formats.style.Styler at 0x21c438f2b20>"
      ]
     },
     "execution_count": 17,
     "metadata": {},
     "output_type": "execute_result"
    }
   ],
   "source": [
    "# missing values in training data set\n",
    "\n",
    "# lets calculate the total missing values in the dataset\n",
    "train_total = train.isnull().sum()\n",
    "\n",
    "# lets calculate the percentage of missing values in the dataset\n",
    "train_percent = ((train.isnull().sum()/train.shape[0])*100).round(2)\n",
    "\n",
    "# lets calculate the total missing values in the dataset\n",
    "test_total = test.isnull().sum()\n",
    "\n",
    "# lets calculate the percentage of missing values in the dataset\n",
    "test_percent = ((test.isnull().sum()/test.shape[0])*100).round(2)\n",
    "\n",
    "# lets make a dataset consisting of total no. of missing values and percentage of missing values in the dataset\n",
    "train_missing_data = pd.concat([train_total, train_percent, test_total, test_percent],\n",
    "                                axis=1, \n",
    "                                keys=['Train_Total', 'Train_Percent %','Test_Total', 'Test_Percent %'],\n",
    "                                sort = True)\n",
    "\n",
    "# lets check the head\n",
    "train_missing_data.style.bar(color = ['gold', 'red'])"
   ]
  },
  {
   "cell_type": "raw",
   "metadata": {},
   "source": [
    "We can see from the above table, that Only two columns have missing values in Train and Test Dataset both. Also, the Percentage of Missing values is around 4 and 7% in education, and previous_year_rating respectively. So, do not have delete any missing values, we can simply impute the values using Mean, Median, and Mode Values. "
   ]
  },
  {
   "cell_type": "code",
   "execution_count": 18,
   "metadata": {
    "execution": {
     "iopub.execute_input": "2021-09-24T13:21:11.289518Z",
     "iopub.status.busy": "2021-09-24T13:21:11.289295Z",
     "iopub.status.idle": "2021-09-24T13:21:11.350412Z",
     "shell.execute_reply": "2021-09-24T13:21:11.349445Z",
     "shell.execute_reply.started": "2021-09-24T13:21:11.289492Z"
    }
   },
   "outputs": [
    {
     "name": "stdout",
     "output_type": "stream",
     "text": [
      "Number of Missing Values Left in the Training Data : 0\n"
     ]
    }
   ],
   "source": [
    "# lets impute the missing values in the Training Data\n",
    "\n",
    "train['education'] = train['education'].fillna(train['education'].mode()[0])\n",
    "train['previous_year_rating'] = train['previous_year_rating'].fillna(train['previous_year_rating'].mode()[0])\n",
    "\n",
    "# lets check whether the Null values are still present or not?\n",
    "print(\"Number of Missing Values Left in the Training Data :\", train.isnull().sum().sum())"
   ]
  },
  {
   "cell_type": "code",
   "execution_count": 19,
   "metadata": {
    "execution": {
     "iopub.execute_input": "2021-09-24T13:21:11.352732Z",
     "iopub.status.busy": "2021-09-24T13:21:11.351769Z",
     "iopub.status.idle": "2021-09-24T13:21:11.384780Z",
     "shell.execute_reply": "2021-09-24T13:21:11.383795Z",
     "shell.execute_reply.started": "2021-09-24T13:21:11.352682Z"
    }
   },
   "outputs": [
    {
     "name": "stdout",
     "output_type": "stream",
     "text": [
      "Number of Missing Values Left in the Training Data : 0\n"
     ]
    }
   ],
   "source": [
    "# lets impute the missing values in the Testing Data\n",
    "\n",
    "test['education'] = test['education'].fillna(test['education'].mode()[0])\n",
    "test['previous_year_rating'] = test['previous_year_rating'].fillna(test['previous_year_rating'].mode()[0])\n",
    "\n",
    "# lets check whether the Null values are still present or not?\n",
    "print(\"Number of Missing Values Left in the Training Data :\", test.isnull().sum().sum())"
   ]
  },
  {
   "cell_type": "raw",
   "metadata": {},
   "source": [
    "we imputed the missing values, using the Mode values, even for the previous year rating, it only seems to be numerical, but in real it's also categorical.\n",
    "After, Imputing the missing values in the training and testing data set we can see that there are no Null Values left in any of the datasets.\n",
    "\n",
    "So, we are Done with the Treatment of the Missing Values."
   ]
  },
  {
   "cell_type": "markdown",
   "metadata": {},
   "source": [
    "## Outlier Detection\n",
    "\n",
    "The presence of outliers in a classification or regression dataset can result in a poor fit and lower predictive modeling performance. Instead, automatic outlier detection methods can be used in the modeling pipeline and compared, just like other data preparation transforms that may be applied to the dataset."
   ]
  },
  {
   "cell_type": "code",
   "execution_count": 20,
   "metadata": {
    "execution": {
     "iopub.execute_input": "2021-09-24T13:21:11.386580Z",
     "iopub.status.busy": "2021-09-24T13:21:11.386238Z",
     "iopub.status.idle": "2021-09-24T13:21:11.405951Z",
     "shell.execute_reply": "2021-09-24T13:21:11.404532Z",
     "shell.execute_reply.started": "2021-09-24T13:21:11.386550Z"
    }
   },
   "outputs": [
    {
     "data": {
      "text/html": [
       "<div>\n",
       "<style scoped>\n",
       "    .dataframe tbody tr th:only-of-type {\n",
       "        vertical-align: middle;\n",
       "    }\n",
       "\n",
       "    .dataframe tbody tr th {\n",
       "        vertical-align: top;\n",
       "    }\n",
       "\n",
       "    .dataframe thead th {\n",
       "        text-align: right;\n",
       "    }\n",
       "</style>\n",
       "<table border=\"1\" class=\"dataframe\">\n",
       "  <thead>\n",
       "    <tr style=\"text-align: right;\">\n",
       "      <th></th>\n",
       "      <th>employee_id</th>\n",
       "      <th>no_of_trainings</th>\n",
       "      <th>age</th>\n",
       "      <th>previous_year_rating</th>\n",
       "      <th>length_of_service</th>\n",
       "      <th>KPIs_met &gt;80%</th>\n",
       "      <th>awards_won?</th>\n",
       "      <th>avg_training_score</th>\n",
       "      <th>is_promoted</th>\n",
       "    </tr>\n",
       "  </thead>\n",
       "  <tbody>\n",
       "    <tr>\n",
       "      <th>0</th>\n",
       "      <td>65438</td>\n",
       "      <td>1</td>\n",
       "      <td>35</td>\n",
       "      <td>5.0</td>\n",
       "      <td>8</td>\n",
       "      <td>1</td>\n",
       "      <td>0</td>\n",
       "      <td>49</td>\n",
       "      <td>0</td>\n",
       "    </tr>\n",
       "    <tr>\n",
       "      <th>1</th>\n",
       "      <td>65141</td>\n",
       "      <td>1</td>\n",
       "      <td>30</td>\n",
       "      <td>5.0</td>\n",
       "      <td>4</td>\n",
       "      <td>0</td>\n",
       "      <td>0</td>\n",
       "      <td>60</td>\n",
       "      <td>0</td>\n",
       "    </tr>\n",
       "    <tr>\n",
       "      <th>2</th>\n",
       "      <td>7513</td>\n",
       "      <td>1</td>\n",
       "      <td>34</td>\n",
       "      <td>3.0</td>\n",
       "      <td>7</td>\n",
       "      <td>0</td>\n",
       "      <td>0</td>\n",
       "      <td>50</td>\n",
       "      <td>0</td>\n",
       "    </tr>\n",
       "    <tr>\n",
       "      <th>3</th>\n",
       "      <td>2542</td>\n",
       "      <td>2</td>\n",
       "      <td>39</td>\n",
       "      <td>1.0</td>\n",
       "      <td>10</td>\n",
       "      <td>0</td>\n",
       "      <td>0</td>\n",
       "      <td>50</td>\n",
       "      <td>0</td>\n",
       "    </tr>\n",
       "    <tr>\n",
       "      <th>4</th>\n",
       "      <td>48945</td>\n",
       "      <td>1</td>\n",
       "      <td>45</td>\n",
       "      <td>3.0</td>\n",
       "      <td>2</td>\n",
       "      <td>0</td>\n",
       "      <td>0</td>\n",
       "      <td>73</td>\n",
       "      <td>0</td>\n",
       "    </tr>\n",
       "  </tbody>\n",
       "</table>\n",
       "</div>"
      ],
      "text/plain": [
       "   employee_id  no_of_trainings  age  previous_year_rating  length_of_service  \\\n",
       "0        65438                1   35                   5.0                  8   \n",
       "1        65141                1   30                   5.0                  4   \n",
       "2         7513                1   34                   3.0                  7   \n",
       "3         2542                2   39                   1.0                 10   \n",
       "4        48945                1   45                   3.0                  2   \n",
       "\n",
       "   KPIs_met >80%  awards_won?  avg_training_score  is_promoted  \n",
       "0              1            0                  49            0  \n",
       "1              0            0                  60            0  \n",
       "2              0            0                  50            0  \n",
       "3              0            0                  50            0  \n",
       "4              0            0                  73            0  "
      ]
     },
     "execution_count": 20,
     "metadata": {},
     "output_type": "execute_result"
    }
   ],
   "source": [
    "# Lets first analyze the Numberical Columns\n",
    "train.select_dtypes('number').head()"
   ]
  },
  {
   "cell_type": "code",
   "execution_count": 21,
   "metadata": {
    "execution": {
     "iopub.execute_input": "2021-09-24T13:21:11.408174Z",
     "iopub.status.busy": "2021-09-24T13:21:11.407775Z",
     "iopub.status.idle": "2021-09-24T13:21:11.771191Z",
     "shell.execute_reply": "2021-09-24T13:21:11.770086Z",
     "shell.execute_reply.started": "2021-09-24T13:21:11.408129Z"
    }
   },
   "outputs": [
    {
     "name": "stderr",
     "output_type": "stream",
     "text": [
      "C:\\Users\\shreyash\\anaconda3\\lib\\site-packages\\seaborn\\_decorators.py:36: FutureWarning: Pass the following variable as a keyword arg: x. From version 0.12, the only valid positional argument will be `data`, and passing other arguments without an explicit keyword will result in an error or misinterpretation.\n",
      "  warnings.warn(\n",
      "C:\\Users\\shreyash\\anaconda3\\lib\\site-packages\\seaborn\\_decorators.py:36: FutureWarning: Pass the following variable as a keyword arg: x. From version 0.12, the only valid positional argument will be `data`, and passing other arguments without an explicit keyword will result in an error or misinterpretation.\n",
      "  warnings.warn(\n"
     ]
    },
    {
     "data": {
      "image/png": "[encoded data removed]",
      "text/plain": [
       "<Figure size 1080x360 with 2 Axes>"
      ]
     },
     "metadata": {},
     "output_type": "display_data"
    }
   ],
   "source": [
    "# lets check the boxplots for the columns where we suspect for outliers\n",
    "plt.rcParams['figure.figsize'] = (15, 5)\n",
    "plt.style.use('fivethirtyeight')\n",
    "\n",
    "# Box plot for average training score\n",
    "plt.subplot(1, 2, 1)\n",
    "sns.boxplot(train['avg_training_score'], color = 'red')\n",
    "plt.xlabel('Average Training Score', fontsize = 12)\n",
    "plt.ylabel('Range', fontsize = 12)\n",
    "\n",
    "# Box plot for length of service\n",
    "plt.subplot(1, 2, 2)\n",
    "sns.boxplot(train['length_of_service'], color = 'red')\n",
    "plt.xlabel('Length of Service', fontsize = 12)\n",
    "plt.ylabel('Range', fontsize = 12)\n",
    "\n",
    "plt.suptitle('Box Plot', fontsize = 20)\n",
    "plt.show()"
   ]
  },
  {
   "cell_type": "raw",
   "metadata": {},
   "source": [
    "Here, the Box plot, helps us to analyze the middle 50 percentile of the data, and we can clearly check the minimum, maximum, median, and outlier values.\n",
    "\n",
    "In the Length of service attribute, we can see some points after the Max Value, which can be termed to be as Outliers. We do not need to remove these values, as the values are not very far and Huge."
   ]
  },
  {
   "cell_type": "raw",
   "metadata": {},
   "source": [
    "We, also check the Distribution of these attributes after checking the Box Plot so that we can be more clear about the Values present in these columns."
   ]
  },
  {
   "cell_type": "code",
   "execution_count": 22,
   "metadata": {
    "execution": {
     "iopub.execute_input": "2021-09-24T13:21:11.773333Z",
     "iopub.status.busy": "2021-09-24T13:21:11.772928Z",
     "iopub.status.idle": "2021-09-24T13:21:11.781469Z",
     "shell.execute_reply": "2021-09-24T13:21:11.780396Z",
     "shell.execute_reply.started": "2021-09-24T13:21:11.773222Z"
    }
   },
   "outputs": [],
   "source": [
    "# lets remove the outliers from the length of service column\n",
    "\n",
    "train = train[train['length_of_service'] > 13]"
   ]
  },
  {
   "cell_type": "markdown",
   "metadata": {},
   "source": [
    "## Univariate Analysis\n",
    "\n",
    "Univariate analysis is perhaps the simplest form of statistical analysis. Like other forms of statistics, it can be inferential or descriptive. The key fact is that only one variable is involved. Univariate analysis can yield misleading results in cases in which multivariate analysis is more appropriate.\n",
    "\n",
    "* This is an Essential step, to understand the variables present in the dataset one by one.\n",
    "* First, we will check the Univariate Analysis for Numerical Columns to check for Outliers by using Box plots.\n",
    "* Then, we will use Distribution plots to check the distribution of the Numerical Columns in the Dataset.\n",
    "* After that we will check the Univariate Analysis for Categorical Columns using Pie charts, and Count plots.\n",
    "* We Use Pie charts, when we have very few categories in the categorical column, and we use count plots we have more categorises in the dataset."
   ]
  },
  {
   "cell_type": "code",
   "execution_count": 23,
   "metadata": {
    "execution": {
     "iopub.execute_input": "2021-09-24T13:21:11.783032Z",
     "iopub.status.busy": "2021-09-24T13:21:11.782745Z",
     "iopub.status.idle": "2021-09-24T13:21:12.163396Z",
     "shell.execute_reply": "2021-09-24T13:21:12.162470Z",
     "shell.execute_reply.started": "2021-09-24T13:21:11.783002Z"
    }
   },
   "outputs": [
    {
     "data": {
      "image/png": "[encoded data removed]",
      "text/plain": [
       "<Figure size 1152x360 with 2 Axes>"
      ]
     },
     "metadata": {},
     "output_type": "display_data"
    }
   ],
   "source": [
    "# lets plot pie chart for the columns where we have very few categories\n",
    "plt.rcParams['figure.figsize'] = (16,5)\n",
    "plt.style.use('fivethirtyeight')\n",
    "\n",
    "# plotting a pie chart to represent share of Previous year Rating of the Employees\n",
    "\"\"\"\n",
    "plt.subplot(1, 3, 1)\n",
    "labels = ['0','1']\n",
    "sizes = train['KPIs_met >80%'].value_counts()\n",
    "colors = plt.cm.Wistia(np.linspace(0, 1, 5))\n",
    "explode = [0, 0]\n",
    "\n",
    "plt.pie(sizes, labels = labels, colors = colors, explode = explode, shadow = True, startangle = 90)\n",
    "plt.title('KPIs Met > 80%', fontsize = 20)\n",
    "\"\"\"\n",
    "\n",
    "# plotting a pie chart to represent share of Previous year Rating of the Employees\n",
    "plt.subplot(1, 3, 2)\n",
    "labels = ['1', '2', '3', '4', '5']\n",
    "sizes = train['previous_year_rating'].value_counts()\n",
    "colors = plt.cm.Wistia(np.linspace(0, 1, 5))\n",
    "explode = [0, 0, 0, 0, 0.1]\n",
    "\n",
    "plt.pie(sizes, labels = labels, colors = colors, explode = explode, shadow = True, startangle = 90)\n",
    "plt.title('Previous year Ratings', fontsize = 20)\n",
    "\n",
    "# plotting a pie chart to represent share of Previous year Rating of the Employees\n",
    "plt.subplot(1, 3, 3)\n",
    "labels = ['0', '1']\n",
    "sizes = train['awards_won?'].value_counts()\n",
    "colors = plt.cm.Wistia(np.linspace(0, 1, 5))\n",
    "explode = [0,0.1]\n",
    "\n",
    "plt.pie(sizes, labels = labels, colors = colors, explode = explode, shadow = True, startangle = 90)\n",
    "plt.title('Awards Won?', fontsize = 20)\n",
    "\n",
    "\n",
    "plt.legend()\n",
    "plt.show()"
   ]
  },
  {
   "cell_type": "raw",
   "metadata": {},
   "source": [
    "We, can see that there are some pie charts, we have for representing KPIs, Previous year Ratings, and Awards Won?\n",
    "\n",
    "Also, The one Big Pattern is that only some of the employees could reach above 80% of KPIs set.\n",
    "Most of the Employees have a very low rating for the previous year, and\n",
    "very few employees, probably 2% of them could get awards for their work, which is normal."
   ]
  },
  {
   "cell_type": "code",
   "execution_count": 24,
   "metadata": {
    "execution": {
     "iopub.execute_input": "2021-09-24T13:21:12.164986Z",
     "iopub.status.busy": "2021-09-24T13:21:12.164780Z",
     "iopub.status.idle": "2021-09-24T13:21:12.393443Z",
     "shell.execute_reply": "2021-09-24T13:21:12.392367Z",
     "shell.execute_reply.started": "2021-09-24T13:21:12.164960Z"
    }
   },
   "outputs": [
    {
     "name": "stderr",
     "output_type": "stream",
     "text": [
      "C:\\Users\\shreyash\\anaconda3\\lib\\site-packages\\seaborn\\_decorators.py:36: FutureWarning: Pass the following variable as a keyword arg: x. From version 0.12, the only valid positional argument will be `data`, and passing other arguments without an explicit keyword will result in an error or misinterpretation.\n",
      "  warnings.warn(\n"
     ]
    },
    {
     "data": {
      "image/png": "[encoded data removed]",
      "text/plain": [
       "<Figure size 1224x288 with 1 Axes>"
      ]
     },
     "metadata": {},
     "output_type": "display_data"
    }
   ],
   "source": [
    "# lets check the distribution of trainings undertaken by the employees\n",
    "\n",
    "plt.rcParams['figure.figsize'] = (17, 4)\n",
    "sns.countplot(train['no_of_trainings'], palette = 'spring')\n",
    "plt.xlabel(' ', fontsize = 14)\n",
    "plt.title('Distribution of Trainings undertaken by the Employees')\n",
    "plt.show()"
   ]
  },
  {
   "cell_type": "raw",
   "metadata": {},
   "source": [
    "The abov Countplot, where are checking the distribution of trainings undertaken by the Employee, It is clearly visible that 80 % of the employees have taken the training only once, and there are negligible no. of employees, who took trainings more than thrice."
   ]
  },
  {
   "cell_type": "code",
   "execution_count": 25,
   "metadata": {
    "execution": {
     "iopub.execute_input": "2021-09-24T13:21:12.395354Z",
     "iopub.status.busy": "2021-09-24T13:21:12.394989Z",
     "iopub.status.idle": "2021-09-24T13:21:12.632025Z",
     "shell.execute_reply": "2021-09-24T13:21:12.631232Z",
     "shell.execute_reply.started": "2021-09-24T13:21:12.395312Z"
    }
   },
   "outputs": [
    {
     "data": {
      "image/png": "[encoded data removed]",
      "text/plain": [
       "<Figure size 576x288 with 1 Axes>"
      ]
     },
     "metadata": {},
     "output_type": "display_data"
    }
   ],
   "source": [
    "# lets check the Age of the Employees\n",
    "\n",
    "plt.rcParams['figure.figsize'] = (8, 4)\n",
    "plt.hist(train['age'], color = 'black')\n",
    "plt.title('Distribution of Age among the Employees', fontsize = 15)\n",
    "plt.xlabel('Age of the Employees')\n",
    "plt.grid()\n",
    "plt.show()"
   ]
  },
  {
   "cell_type": "code",
   "execution_count": 26,
   "metadata": {
    "execution": {
     "iopub.execute_input": "2021-09-24T13:21:12.634155Z",
     "iopub.status.busy": "2021-09-24T13:21:12.633582Z",
     "iopub.status.idle": "2021-09-24T13:21:12.934099Z",
     "shell.execute_reply": "2021-09-24T13:21:12.933085Z",
     "shell.execute_reply.started": "2021-09-24T13:21:12.634110Z"
    }
   },
   "outputs": [
    {
     "data": {
      "image/png": "[encoded data removed]",
      "text/plain": [
       "<Figure size 864x432 with 1 Axes>"
      ]
     },
     "metadata": {},
     "output_type": "display_data"
    }
   ],
   "source": [
    "# lets check different Departments\n",
    "\n",
    "plt.rcParams['figure.figsize'] = (12, 6)\n",
    "sns.countplot(y = train['department'], palette = 'cividis', orient = 'v')\n",
    "plt.xlabel('')\n",
    "plt.ylabel('Department Name')\n",
    "plt.title('Distribution of Employees in Different Departments', fontsize = 15)\n",
    "plt.grid()\n",
    "\n",
    "plt.show()"
   ]
  },
  {
   "cell_type": "code",
   "execution_count": 27,
   "metadata": {
    "execution": {
     "iopub.execute_input": "2021-09-24T13:21:12.936237Z",
     "iopub.status.busy": "2021-09-24T13:21:12.935701Z",
     "iopub.status.idle": "2021-09-24T13:21:13.448891Z",
     "shell.execute_reply": "2021-09-24T13:21:13.448035Z",
     "shell.execute_reply.started": "2021-09-24T13:21:12.936188Z"
    }
   },
   "outputs": [
    {
     "data": {
      "image/png": "[encoded data removed]",
      "text/plain": [
       "<Figure size 864x1080 with 1 Axes>"
      ]
     },
     "metadata": {},
     "output_type": "display_data"
    }
   ],
   "source": [
    "# lets check distribution of different Regions\n",
    "\n",
    "plt.rcParams['figure.figsize'] = (12,15)\n",
    "plt.style.use('fivethirtyeight')\n",
    "sns.countplot(y = train['region'], palette = 'inferno', orient = 'v')\n",
    "plt.xlabel('')\n",
    "plt.ylabel('Region')\n",
    "plt.title('Different Regions', fontsize = 15)\n",
    "plt.xticks(rotation = 90)\n",
    "plt.grid()\n",
    "plt.show()"
   ]
  },
  {
   "cell_type": "code",
   "execution_count": 65,
   "metadata": {},
   "outputs": [
    {
     "data": {
      "text/html": [
       "<div>\n",
       "<style scoped>\n",
       "    .dataframe tbody tr th:only-of-type {\n",
       "        vertical-align: middle;\n",
       "    }\n",
       "\n",
       "    .dataframe tbody tr th {\n",
       "        vertical-align: top;\n",
       "    }\n",
       "\n",
       "    .dataframe thead th {\n",
       "        text-align: right;\n",
       "    }\n",
       "</style>\n",
       "<table border=\"1\" class=\"dataframe\">\n",
       "  <thead>\n",
       "    <tr style=\"text-align: right;\">\n",
       "      <th></th>\n",
       "      <th>department</th>\n",
       "      <th>education</th>\n",
       "      <th>gender</th>\n",
       "      <th>no_of_trainings</th>\n",
       "      <th>age</th>\n",
       "      <th>previous_year_rating</th>\n",
       "      <th>length_of_service</th>\n",
       "      <th>KPIs_met &gt;80%</th>\n",
       "      <th>awards_won?</th>\n",
       "      <th>avg_training_score</th>\n",
       "      <th>is_promoted</th>\n",
       "      <th>sum_metric</th>\n",
       "      <th>total_score</th>\n",
       "    </tr>\n",
       "  </thead>\n",
       "  <tbody>\n",
       "    <tr>\n",
       "      <th>13</th>\n",
       "      <td>8</td>\n",
       "      <td>3</td>\n",
       "      <td>1</td>\n",
       "      <td>2</td>\n",
       "      <td>39</td>\n",
       "      <td>3.0</td>\n",
       "      <td>16</td>\n",
       "      <td>0</td>\n",
       "      <td>0</td>\n",
       "      <td>80</td>\n",
       "      <td>0</td>\n",
       "      <td>3.0</td>\n",
       "      <td>160</td>\n",
       "    </tr>\n",
       "    <tr>\n",
       "      <th>42</th>\n",
       "      <td>2</td>\n",
       "      <td>2</td>\n",
       "      <td>1</td>\n",
       "      <td>1</td>\n",
       "      <td>59</td>\n",
       "      <td>4.0</td>\n",
       "      <td>26</td>\n",
       "      <td>1</td>\n",
       "      <td>0</td>\n",
       "      <td>52</td>\n",
       "      <td>0</td>\n",
       "      <td>5.0</td>\n",
       "      <td>52</td>\n",
       "    </tr>\n",
       "    <tr>\n",
       "      <th>60</th>\n",
       "      <td>7</td>\n",
       "      <td>3</td>\n",
       "      <td>1</td>\n",
       "      <td>1</td>\n",
       "      <td>50</td>\n",
       "      <td>4.0</td>\n",
       "      <td>17</td>\n",
       "      <td>1</td>\n",
       "      <td>0</td>\n",
       "      <td>47</td>\n",
       "      <td>1</td>\n",
       "      <td>5.0</td>\n",
       "      <td>47</td>\n",
       "    </tr>\n",
       "    <tr>\n",
       "      <th>74</th>\n",
       "      <td>7</td>\n",
       "      <td>2</td>\n",
       "      <td>1</td>\n",
       "      <td>1</td>\n",
       "      <td>50</td>\n",
       "      <td>3.0</td>\n",
       "      <td>14</td>\n",
       "      <td>0</td>\n",
       "      <td>0</td>\n",
       "      <td>52</td>\n",
       "      <td>0</td>\n",
       "      <td>3.0</td>\n",
       "      <td>52</td>\n",
       "    </tr>\n",
       "    <tr>\n",
       "      <th>99</th>\n",
       "      <td>1</td>\n",
       "      <td>3</td>\n",
       "      <td>1</td>\n",
       "      <td>1</td>\n",
       "      <td>60</td>\n",
       "      <td>5.0</td>\n",
       "      <td>17</td>\n",
       "      <td>0</td>\n",
       "      <td>0</td>\n",
       "      <td>59</td>\n",
       "      <td>0</td>\n",
       "      <td>5.0</td>\n",
       "      <td>59</td>\n",
       "    </tr>\n",
       "    <tr>\n",
       "      <th>...</th>\n",
       "      <td>...</td>\n",
       "      <td>...</td>\n",
       "      <td>...</td>\n",
       "      <td>...</td>\n",
       "      <td>...</td>\n",
       "      <td>...</td>\n",
       "      <td>...</td>\n",
       "      <td>...</td>\n",
       "      <td>...</td>\n",
       "      <td>...</td>\n",
       "      <td>...</td>\n",
       "      <td>...</td>\n",
       "      <td>...</td>\n",
       "    </tr>\n",
       "    <tr>\n",
       "      <th>54691</th>\n",
       "      <td>0</td>\n",
       "      <td>3</td>\n",
       "      <td>1</td>\n",
       "      <td>1</td>\n",
       "      <td>47</td>\n",
       "      <td>5.0</td>\n",
       "      <td>19</td>\n",
       "      <td>0</td>\n",
       "      <td>0</td>\n",
       "      <td>86</td>\n",
       "      <td>0</td>\n",
       "      <td>5.0</td>\n",
       "      <td>86</td>\n",
       "    </tr>\n",
       "    <tr>\n",
       "      <th>54695</th>\n",
       "      <td>4</td>\n",
       "      <td>2</td>\n",
       "      <td>0</td>\n",
       "      <td>2</td>\n",
       "      <td>52</td>\n",
       "      <td>5.0</td>\n",
       "      <td>18</td>\n",
       "      <td>1</td>\n",
       "      <td>0</td>\n",
       "      <td>56</td>\n",
       "      <td>1</td>\n",
       "      <td>6.0</td>\n",
       "      <td>112</td>\n",
       "    </tr>\n",
       "    <tr>\n",
       "      <th>54697</th>\n",
       "      <td>7</td>\n",
       "      <td>2</td>\n",
       "      <td>1</td>\n",
       "      <td>1</td>\n",
       "      <td>47</td>\n",
       "      <td>5.0</td>\n",
       "      <td>15</td>\n",
       "      <td>0</td>\n",
       "      <td>0</td>\n",
       "      <td>50</td>\n",
       "      <td>0</td>\n",
       "      <td>5.0</td>\n",
       "      <td>50</td>\n",
       "    </tr>\n",
       "    <tr>\n",
       "      <th>54754</th>\n",
       "      <td>8</td>\n",
       "      <td>2</td>\n",
       "      <td>0</td>\n",
       "      <td>1</td>\n",
       "      <td>42</td>\n",
       "      <td>3.0</td>\n",
       "      <td>14</td>\n",
       "      <td>0</td>\n",
       "      <td>0</td>\n",
       "      <td>79</td>\n",
       "      <td>0</td>\n",
       "      <td>3.0</td>\n",
       "      <td>79</td>\n",
       "    </tr>\n",
       "    <tr>\n",
       "      <th>54803</th>\n",
       "      <td>8</td>\n",
       "      <td>2</td>\n",
       "      <td>1</td>\n",
       "      <td>1</td>\n",
       "      <td>48</td>\n",
       "      <td>3.0</td>\n",
       "      <td>17</td>\n",
       "      <td>0</td>\n",
       "      <td>0</td>\n",
       "      <td>78</td>\n",
       "      <td>0</td>\n",
       "      <td>3.0</td>\n",
       "      <td>78</td>\n",
       "    </tr>\n",
       "  </tbody>\n",
       "</table>\n",
       "<p>3489 rows × 13 columns</p>\n",
       "</div>"
      ],
      "text/plain": [
       "       department  education  gender  no_of_trainings  age  \\\n",
       "13              8          3       1                2   39   \n",
       "42              2          2       1                1   59   \n",
       "60              7          3       1                1   50   \n",
       "74              7          2       1                1   50   \n",
       "99              1          3       1                1   60   \n",
       "...           ...        ...     ...              ...  ...   \n",
       "54691           0          3       1                1   47   \n",
       "54695           4          2       0                2   52   \n",
       "54697           7          2       1                1   47   \n",
       "54754           8          2       0                1   42   \n",
       "54803           8          2       1                1   48   \n",
       "\n",
       "       previous_year_rating  length_of_service  KPIs_met >80%  awards_won?  \\\n",
       "13                      3.0                 16              0            0   \n",
       "42                      4.0                 26              1            0   \n",
       "60                      4.0                 17              1            0   \n",
       "74                      3.0                 14              0            0   \n",
       "99                      5.0                 17              0            0   \n",
       "...                     ...                ...            ...          ...   \n",
       "54691                   5.0                 19              0            0   \n",
       "54695                   5.0                 18              1            0   \n",
       "54697                   5.0                 15              0            0   \n",
       "54754                   3.0                 14              0            0   \n",
       "54803                   3.0                 17              0            0   \n",
       "\n",
       "       avg_training_score  is_promoted  sum_metric  total_score  \n",
       "13                     80            0         3.0          160  \n",
       "42                     52            0         5.0           52  \n",
       "60                     47            1         5.0           47  \n",
       "74                     52            0         3.0           52  \n",
       "99                     59            0         5.0           59  \n",
       "...                   ...          ...         ...          ...  \n",
       "54691                  86            0         5.0           86  \n",
       "54695                  56            1         6.0          112  \n",
       "54697                  50            0         5.0           50  \n",
       "54754                  79            0         3.0           79  \n",
       "54803                  78            0         3.0           78  \n",
       "\n",
       "[3489 rows x 13 columns]"
      ]
     },
     "execution_count": 65,
     "metadata": {},
     "output_type": "execute_result"
    },
    {
     "data": {
      "image/png": "[encoded data removed]",
      "text/plain": [
       "<Figure size 1152x360 with 2 Axes>"
      ]
     },
     "metadata": {},
     "output_type": "display_data"
    }
   ],
   "source": [
    "# lets plot pie chart for the columns where we have very few categories\n",
    "plt.rcParams['figure.figsize'] = (16,5)\n",
    "\n",
    "# plotting a pie chart to represent share of Previous year Rating of the Employees\n",
    "plt.subplot(1, 3, 1)\n",
    "labels = train['education'].value_counts().index\n",
    "sizes = train['education'].value_counts()\n",
    "colors = plt.cm.copper(np.linspace(0, 1, 5))\n",
    "explode = [0, 0.1]\n",
    "\n",
    "plt.pie(sizes, labels = labels, colors = colors, explode = explode, shadow = True, startangle = 90)\n",
    "plt.title('Education', fontsize = 20)\n",
    "\n",
    "# plotting a pie chart to represent share of Previous year Rating of the Employees\n",
    "plt.subplot(1, 3, 2)\n",
    "labels = train['gender'].value_counts().index\n",
    "sizes = train['gender'].value_counts()\n",
    "colors = plt.cm.copper(np.linspace(0, 1, 5))\n",
    "explode = [0, 0.1]\n",
    "\n",
    "plt.pie(sizes, labels = labels, colors = colors, explode = explode, shadow = True, startangle = 90)\n",
    "plt.title('Gender', fontsize = 20)\n",
    "train\n",
    "\n",
    "# # plotting a pie chart to represent share of Previous year Rating of the Employees\n",
    "# plt.subplot(1, 3, 3)\n",
    "# labels = train['recruitment_channel'].value_counts().index\n",
    "# sizes = train['recruitment_channel'].value_counts()\n",
    "# colors = plt.cm.copper(np.linspace(0, 1, 5))\n",
    "# explode = [0,0.1]\n",
    "\n",
    "# plt.pie(sizes, labels = labels, colors = colors, explode=explode,shadow = True, startangle = 90)\n",
    "# plt.title('Recruitment Channel', fontsize = 20)\n",
    "\n",
    "# plt.show()"
   ]
  },
  {
   "cell_type": "raw",
   "metadata": {},
   "source": [
    "From, the above pie charts displayed for representing Education, Gender, and Recruitment Channel.\n",
    "\n",
    "lets infer the Main Highlights\n",
    "Very Few employees are actually working only after their Secondary Education, \n",
    "Obviously Females are again in Minority as compared to their Male Counterparts.\n",
    "and the Recruitment Channel, says that the Referred Employees are very less, i.e., most of the employees are recruited either by sourcing, or some other recruitment agencies, sources etc."
   ]
  },
  {
   "cell_type": "markdown",
   "metadata": {},
   "source": [
    "## Bivariate Analysis\n",
    "\n",
    "Bivariate analysis is one of the simplest forms of quantitative analysis. It involves the analysis of two variables, for the purpose of determining the empirical relationship between them. Bivariate analysis can be helpful in testing simple hypotheses of association.\n",
    "\n",
    "* Types of Bivariate Analysis\n",
    "    * Categorical vs Categorical \n",
    "    * Categorical vs Numerical\n",
    "    * Numerical vs Numerical\n",
    "    \n",
    "* First, we will perform Categorical vs Categorical Analysis using Stacked and Grouped Bar Charts with the help of crosstab function.\n",
    "* Second, we will perform Categorical vs Numerical Analysis using Bar Charts, Box plots, Strip plots, Swarm plots, Boxen plots, Violin Plots, etc\n",
    "* Atlast, we will perform Numerical vs Numerical Analysis using Scatter plots."
   ]
  },
  {
   "cell_type": "code",
   "execution_count": 29,
   "metadata": {
    "execution": {
     "iopub.status.busy": "2021-09-24T13:21:13.805760Z",
     "iopub.status.idle": "2021-09-24T13:21:13.806119Z",
     "shell.execute_reply": "2021-09-24T13:21:13.805959Z",
     "shell.execute_reply.started": "2021-09-24T13:21:13.805941Z"
    }
   },
   "outputs": [
    {
     "data": {
      "image/png": "[encoded data removed]",
      "text/plain": [
       "<Figure size 1080x216 with 1 Axes>"
      ]
     },
     "metadata": {},
     "output_type": "display_data"
    }
   ],
   "source": [
    "# Lets compare the Gender Gap in the promotion\n",
    "\n",
    "import warnings\n",
    "warnings.filterwarnings('ignore')\n",
    "\n",
    "plt.rcParams['figure.figsize'] = (15, 3)\n",
    "x = pd.crosstab(train['gender'], train['is_promoted'])\n",
    "colors = plt.cm.Wistia(np.linspace(0, 1, 5))\n",
    "x.div(x.sum(1).astype(float), axis = 0).plot(kind = 'bar', stacked = False)\n",
    "plt.title('Effect of Gender on Promotion', fontsize = 15)\n",
    "plt.xlabel(' ')\n",
    "plt.show()"
   ]
  },
  {
   "cell_type": "raw",
   "metadata": {},
   "source": [
    "As we have already seen that the Females are in Minority, but when it comes to Promotion, they are competing with their Men Counterparts neck-to-neck. That's a great Inference."
   ]
  },
  {
   "cell_type": "code",
   "execution_count": 30,
   "metadata": {
    "execution": {
     "iopub.status.busy": "2021-09-24T13:21:13.807368Z",
     "iopub.status.idle": "2021-09-24T13:21:13.807687Z",
     "shell.execute_reply": "2021-09-24T13:21:13.807540Z",
     "shell.execute_reply.started": "2021-09-24T13:21:13.807524Z"
    }
   },
   "outputs": [
    {
     "data": {
      "image/png": "[encoded data removed]",
      "text/plain": [
       "<Figure size 1080x288 with 1 Axes>"
      ]
     },
     "metadata": {},
     "output_type": "display_data"
    }
   ],
   "source": [
    "# lets compare the effect of different Departments and Promotion\n",
    "\n",
    "plt.rcParams['figure.figsize'] = (15,4)\n",
    "x = pd.crosstab(train['department'], train['is_promoted'])\n",
    "colors = plt.cm.copper(np.linspace(0, 1, 3))\n",
    "x.div(x.sum(1).astype(float), axis = 0).plot(kind = 'area', stacked = False)\n",
    "plt.title('Effect of Department on Promotion', fontsize = 15)\n",
    "plt.xticks(rotation = 20)\n",
    "plt.xlabel(' ')\n",
    "plt.show()"
   ]
  },
  {
   "cell_type": "raw",
   "metadata": {},
   "source": [
    "From, the above chart we can see that almost all the Departments have a very similar effect on Promotion. So, we can consider that all the Departments have a similar effect on the promotion. Also, this column comes out to be lesser important in making a Machine Learning Model, as it does not contribute at all when it comes to Predicting whether the Employee should get Promotion."
   ]
  },
  {
   "cell_type": "code",
   "execution_count": 31,
   "metadata": {
    "execution": {
     "iopub.status.busy": "2021-09-24T13:21:13.808765Z",
     "iopub.status.idle": "2021-09-24T13:21:13.809096Z",
     "shell.execute_reply": "2021-09-24T13:21:13.808947Z",
     "shell.execute_reply.started": "2021-09-24T13:21:13.808931Z"
    }
   },
   "outputs": [
    {
     "data": {
      "image/png": "[encoded data removed]",
      "text/plain": [
       "<Figure size 1080x288 with 1 Axes>"
      ]
     },
     "metadata": {},
     "output_type": "display_data"
    }
   ],
   "source": [
    "# Effect of Age on the Promotion\n",
    "\n",
    "plt.rcParams['figure.figsize'] = (15,4)\n",
    "sns.boxenplot(train['is_promoted'], train['age'], palette = 'PuRd')\n",
    "plt.title('Effect of Age on Promotion', fontsize = 15)\n",
    "plt.xlabel('Is the Employee Promoted?', fontsize = 10)\n",
    "plt.ylabel('Age of the Employee', fontsize = 10)\n",
    "plt.show()"
   ]
  },
  {
   "cell_type": "code",
   "execution_count": 32,
   "metadata": {
    "execution": {
     "iopub.status.busy": "2021-09-24T13:21:13.810026Z",
     "iopub.status.idle": "2021-09-24T13:21:13.810366Z",
     "shell.execute_reply": "2021-09-24T13:21:13.810180Z",
     "shell.execute_reply.started": "2021-09-24T13:21:13.810166Z"
    }
   },
   "outputs": [
    {
     "data": {
      "image/png": "[encoded data removed]",
      "text/plain": [
       "<Figure size 1152x504 with 1 Axes>"
      ]
     },
     "metadata": {},
     "output_type": "display_data"
    }
   ],
   "source": [
    "# Department Vs Average Training Score\n",
    "\n",
    "plt.rcParams['figure.figsize'] = (16, 7)\n",
    "sns.boxplot(train['department'], train['avg_training_score'], palette = 'autumn')\n",
    "plt.title('Average Training Scores from each Department', fontsize = 15)\n",
    "plt.ylabel('Promoted or not', fontsize = 10)\n",
    "plt.xlabel('Departments', fontsize = 10)\n",
    "plt.show()"
   ]
  },
  {
   "cell_type": "markdown",
   "metadata": {},
   "source": [
    "## Multivariate Analysis\n",
    "\n",
    "Multivariate analysis is based on the principles of multivariate statistics, which involves observation and analysis of more than one statistical outcome variable at a time.\n",
    "\n",
    "* First, we will use the Correlation Heatmap to check the correlation between the Numerical Columns\n",
    "* Then we will check the ppscore or the Predictive Score to check the correlation between all the columns present in the data.\n",
    "* Then, we will use Bubble Charts, split Violin plots, Hue with Bivariate Plots."
   ]
  },
  {
   "cell_type": "code",
   "execution_count": 33,
   "metadata": {
    "execution": {
     "iopub.status.busy": "2021-09-24T13:21:13.811618Z",
     "iopub.status.idle": "2021-09-24T13:21:13.811937Z",
     "shell.execute_reply": "2021-09-24T13:21:13.811783Z",
     "shell.execute_reply.started": "2021-09-24T13:21:13.811768Z"
    }
   },
   "outputs": [
    {
     "data": {
      "image/png": "[encoded data removed]",
      "text/plain": [
       "<Figure size 1080x576 with 2 Axes>"
      ]
     },
     "metadata": {},
     "output_type": "display_data"
    }
   ],
   "source": [
    "# lets check the Heat Map for the Data with respect to correlation.\n",
    "\n",
    "plt.rcParams['figure.figsize'] = (15, 8)\n",
    "sns.heatmap(train.corr(), annot = True, linewidth = 0.5, cmap = 'Wistia')\n",
    "plt.title('Correlation Heat Map', fontsize = 15)\n",
    "plt.show()"
   ]
  },
  {
   "cell_type": "raw",
   "metadata": {},
   "source": [
    "Here, we can see some obvious results, that is Length of Service, and Age are Highly Correlated,\n",
    "Also, KPIs, and Previous year rating are correlated to some extent, hinting that there is some relation."
   ]
  },
  {
   "cell_type": "code",
   "execution_count": 34,
   "metadata": {
    "execution": {
     "iopub.status.busy": "2021-09-24T13:21:13.813742Z",
     "iopub.status.idle": "2021-09-24T13:21:13.814180Z",
     "shell.execute_reply": "2021-09-24T13:21:13.813999Z",
     "shell.execute_reply.started": "2021-09-24T13:21:13.813976Z"
    }
   },
   "outputs": [
    {
     "data": {
      "image/png": "[encoded data removed]",
      "text/plain": [
       "<Figure size 1152x504 with 1 Axes>"
      ]
     },
     "metadata": {},
     "output_type": "display_data"
    }
   ],
   "source": [
    "# lets check the relation of Departments and Promotions when they won awards ?\n",
    "\n",
    "plt.rcParams['figure.figsize'] = (16, 7)\n",
    "sns.barplot(train['department'], train['avg_training_score'], hue = train['gender'], palette = 'autumn')\n",
    "plt.title('Chances of Promotion in each Department when they have won some Awards too', fontsize = 15)\n",
    "plt.ylabel('Promoted or not', fontsize = 10)\n",
    "plt.xlabel('Departments', fontsize = 10)\n",
    "plt.show()"
   ]
  },
  {
   "cell_type": "markdown",
   "metadata": {},
   "source": [
    "## Feature Engineering\n",
    "\n",
    "Feature engineering is the process of using domain knowledge to extract features from raw data via data mining techniques. These features can be used to improve the performance of machine learning algorithms. Feature engineering can be considered as applied machine learning itself.\n",
    "\n",
    "* There are mutliple ways of performing feature engineering.\n",
    "* So many people in the Industry consider it the most important step to improve the Model Performance.\n",
    "* We should always understand the columns well to make some new features using the old existing features.\n",
    "* Let's discuss the ways how we can perform feature engineering\n",
    "    * We can perform Feature Engineering by Removing Unnecassary Columns\n",
    "    * We can do it by Extracting Features from the Date and Time Features.\n",
    "    * We can do it by Extracting Features from the Categorcial Features.\n",
    "    * We can do it by Binnning the Numerical and Categorical Features.\n",
    "    * We can do it by Aggregating Multiple Features together by using simple Arithmetic operations\n",
    "    \n",
    "* Here, we are only going to perform Feature Engineering by Aggregating some features together."
   ]
  },
  {
   "cell_type": "code",
   "execution_count": 35,
   "metadata": {
    "execution": {
     "iopub.status.busy": "2021-09-24T13:21:13.815025Z",
     "iopub.status.idle": "2021-09-24T13:21:13.815421Z",
     "shell.execute_reply": "2021-09-24T13:21:13.815233Z",
     "shell.execute_reply.started": "2021-09-24T13:21:13.815213Z"
    }
   },
   "outputs": [],
   "source": [
    "# lets create some extra features from existing features to improve our Model\n",
    "\n",
    "# creating a Metric of Sum\n",
    "train['sum_metric'] = train['awards_won?']+train['KPIs_met >80%'] + train['previous_year_rating']\n",
    "test['sum_metric'] = test['awards_won?']+test['KPIs_met >80%'] + test['previous_year_rating']\n",
    "\n",
    "# creating a total score column\n",
    "train['total_score'] = train['avg_training_score'] * train['no_of_trainings']\n",
    "test['total_score'] = test['avg_training_score'] * test['no_of_trainings']"
   ]
  },
  {
   "cell_type": "code",
   "execution_count": 36,
   "metadata": {
    "execution": {
     "iopub.status.busy": "2021-09-24T13:21:13.816610Z",
     "iopub.status.idle": "2021-09-24T13:21:13.816947Z",
     "shell.execute_reply": "2021-09-24T13:21:13.816784Z",
     "shell.execute_reply.started": "2021-09-24T13:21:13.816761Z"
    }
   },
   "outputs": [
    {
     "data": {
      "text/plain": [
       "Index(['department', 'education', 'gender', 'no_of_trainings', 'age',\n",
       "       'previous_year_rating', 'length_of_service', 'KPIs_met >80%',\n",
       "       'awards_won?', 'avg_training_score', 'is_promoted', 'sum_metric',\n",
       "       'total_score'],\n",
       "      dtype='object')"
      ]
     },
     "execution_count": 36,
     "metadata": {},
     "output_type": "execute_result"
    }
   ],
   "source": [
    "# lets remove some of the columns which are not very useful for predicting the promotion.\n",
    "\n",
    "# we already know that the recruitment channel is very least related to promotion of an employee, so lets remove this column\n",
    "# even the region seems to contribute very less, when it comes to promotion, so lets remove it too.\n",
    "# also the employee id is not useful so lets remove it.\n",
    "\n",
    "train = train.drop(['recruitment_channel', 'region', 'employee_id'], axis = 1)\n",
    "test = test.drop(['recruitment_channel', 'region', 'employee_id'], axis = 1)\n",
    "\n",
    "# lets check the columns in train and test data set after feature engineering\n",
    "train.columns"
   ]
  },
  {
   "cell_type": "code",
   "execution_count": 37,
   "metadata": {
    "execution": {
     "iopub.status.busy": "2021-09-24T13:21:13.817950Z",
     "iopub.status.idle": "2021-09-24T13:21:13.818304Z",
     "shell.execute_reply": "2021-09-24T13:21:13.818123Z",
     "shell.execute_reply.started": "2021-09-24T13:21:13.818101Z"
    }
   },
   "outputs": [
    {
     "data": {
      "text/html": [
       "<div>\n",
       "<style scoped>\n",
       "    .dataframe tbody tr th:only-of-type {\n",
       "        vertical-align: middle;\n",
       "    }\n",
       "\n",
       "    .dataframe tbody tr th {\n",
       "        vertical-align: top;\n",
       "    }\n",
       "\n",
       "    .dataframe thead th {\n",
       "        text-align: right;\n",
       "    }\n",
       "</style>\n",
       "<table border=\"1\" class=\"dataframe\">\n",
       "  <thead>\n",
       "    <tr style=\"text-align: right;\">\n",
       "      <th></th>\n",
       "      <th>department</th>\n",
       "      <th>education</th>\n",
       "      <th>gender</th>\n",
       "      <th>no_of_trainings</th>\n",
       "      <th>age</th>\n",
       "      <th>previous_year_rating</th>\n",
       "      <th>length_of_service</th>\n",
       "      <th>KPIs_met &gt;80%</th>\n",
       "      <th>awards_won?</th>\n",
       "      <th>avg_training_score</th>\n",
       "      <th>is_promoted</th>\n",
       "      <th>sum_metric</th>\n",
       "      <th>total_score</th>\n",
       "    </tr>\n",
       "  </thead>\n",
       "  <tbody>\n",
       "  </tbody>\n",
       "</table>\n",
       "</div>"
      ],
      "text/plain": [
       "Empty DataFrame\n",
       "Columns: [department, education, gender, no_of_trainings, age, previous_year_rating, length_of_service, KPIs_met >80%, awards_won?, avg_training_score, is_promoted, sum_metric, total_score]\n",
       "Index: []"
      ]
     },
     "execution_count": 37,
     "metadata": {},
     "output_type": "execute_result"
    }
   ],
   "source": [
    "'''\n",
    "lets check the no. of employee who did not get an award, did not acheive 80+ KPI, previous_year_rating as 1\n",
    "and avg_training score is less than 40\n",
    "but, still got promotion.\n",
    "''' \n",
    "\n",
    "train[(train['KPIs_met >80%'] == 0) & (train['previous_year_rating'] == 1.0) & \n",
    "      (train['awards_won?'] == 0) & (train['avg_training_score'] < 60) & (train['is_promoted'] == 1)]"
   ]
  },
  {
   "cell_type": "code",
   "execution_count": 38,
   "metadata": {
    "execution": {
     "iopub.status.busy": "2021-09-24T13:21:13.819612Z",
     "iopub.status.idle": "2021-09-24T13:21:13.819959Z",
     "shell.execute_reply": "2021-09-24T13:21:13.819804Z",
     "shell.execute_reply.started": "2021-09-24T13:21:13.819781Z"
    }
   },
   "outputs": [
    {
     "name": "stdout",
     "output_type": "stream",
     "text": [
      "Before Deleting the above two rows : (3489, 13)\n",
      "After Deletion of the above two rows : (3489, 13)\n"
     ]
    }
   ],
   "source": [
    "# lets remove the above two columns as they have a huge negative effect on our training data\n",
    "\n",
    "# lets check shape of the train data before deleting two rows\n",
    "print(\"Before Deleting the above two rows :\", train.shape)\n",
    "\n",
    "train = train.drop(train[(train['KPIs_met >80%'] == 0) & (train['previous_year_rating'] == 1.0) & \n",
    "      (train['awards_won?'] == 0) & (train['avg_training_score'] < 60) & (train['is_promoted'] == 1)].index)\n",
    "\n",
    "# lets check the shape of the train data after deleting the two rows\n",
    "print(\"After Deletion of the above two rows :\", train.shape)"
   ]
  },
  {
   "cell_type": "markdown",
   "metadata": {},
   "source": [
    "## Dealing with Categorical Columns\n",
    "\n",
    "Categorical variables are known to hide and mask lots of interesting information in a data set. It’s crucial to learn the methods of dealing with such variables. If you won’t, many a times, you’d miss out on finding the most important variables in a model. It has happened with me. Initially, I used to focus more on numerical variables. Hence, never actually got an accurate model. But, later I discovered my flaws and learnt the art of dealing with such variables.\n",
    "\n",
    "* There are various ways to encode categorical columns into Numerical columns\n",
    "* This is an Essential Step, as we Machine Learning Models only works with Numerical Values.\n",
    "* Here, we are going to use Business Logic to encode the education column\n",
    "* Then we will use the Label Encoder, to Department and Gender Columns"
   ]
  },
  {
   "cell_type": "code",
   "execution_count": 39,
   "metadata": {
    "execution": {
     "iopub.status.busy": "2021-09-24T13:21:13.821564Z",
     "iopub.status.idle": "2021-09-24T13:21:13.821918Z",
     "shell.execute_reply": "2021-09-24T13:21:13.821750Z",
     "shell.execute_reply.started": "2021-09-24T13:21:13.821728Z"
    }
   },
   "outputs": [
    {
     "data": {
      "text/html": [
       "<div>\n",
       "<style scoped>\n",
       "    .dataframe tbody tr th:only-of-type {\n",
       "        vertical-align: middle;\n",
       "    }\n",
       "\n",
       "    .dataframe tbody tr th {\n",
       "        vertical-align: top;\n",
       "    }\n",
       "\n",
       "    .dataframe thead th {\n",
       "        text-align: right;\n",
       "    }\n",
       "</style>\n",
       "<table border=\"1\" class=\"dataframe\">\n",
       "  <thead>\n",
       "    <tr style=\"text-align: right;\">\n",
       "      <th></th>\n",
       "      <th>department</th>\n",
       "      <th>education</th>\n",
       "      <th>gender</th>\n",
       "    </tr>\n",
       "  </thead>\n",
       "  <tbody>\n",
       "    <tr>\n",
       "      <th>13</th>\n",
       "      <td>Technology</td>\n",
       "      <td>Master's &amp; above</td>\n",
       "      <td>m</td>\n",
       "    </tr>\n",
       "    <tr>\n",
       "      <th>42</th>\n",
       "      <td>HR</td>\n",
       "      <td>Bachelor's</td>\n",
       "      <td>m</td>\n",
       "    </tr>\n",
       "    <tr>\n",
       "      <th>60</th>\n",
       "      <td>Sales &amp; Marketing</td>\n",
       "      <td>Master's &amp; above</td>\n",
       "      <td>m</td>\n",
       "    </tr>\n",
       "    <tr>\n",
       "      <th>74</th>\n",
       "      <td>Sales &amp; Marketing</td>\n",
       "      <td>Bachelor's</td>\n",
       "      <td>m</td>\n",
       "    </tr>\n",
       "    <tr>\n",
       "      <th>99</th>\n",
       "      <td>Finance</td>\n",
       "      <td>Master's &amp; above</td>\n",
       "      <td>m</td>\n",
       "    </tr>\n",
       "  </tbody>\n",
       "</table>\n",
       "</div>"
      ],
      "text/plain": [
       "           department         education gender\n",
       "13         Technology  Master's & above      m\n",
       "42                 HR        Bachelor's      m\n",
       "60  Sales & Marketing  Master's & above      m\n",
       "74  Sales & Marketing        Bachelor's      m\n",
       "99            Finance  Master's & above      m"
      ]
     },
     "execution_count": 39,
     "metadata": {},
     "output_type": "execute_result"
    }
   ],
   "source": [
    "## Lets check the categorical columns present in the data\n",
    "train.select_dtypes('object').head()"
   ]
  },
  {
   "cell_type": "code",
   "execution_count": 40,
   "metadata": {
    "execution": {
     "iopub.status.busy": "2021-09-24T13:21:13.822947Z",
     "iopub.status.idle": "2021-09-24T13:21:13.823355Z",
     "shell.execute_reply": "2021-09-24T13:21:13.823160Z",
     "shell.execute_reply.started": "2021-09-24T13:21:13.823110Z"
    }
   },
   "outputs": [
    {
     "data": {
      "text/plain": [
       "Master's & above    1759\n",
       "Bachelor's          1730\n",
       "Name: education, dtype: int64"
      ]
     },
     "execution_count": 40,
     "metadata": {},
     "output_type": "execute_result"
    }
   ],
   "source": [
    "# lets check the value counts for the education column\n",
    "train['education'].value_counts()"
   ]
  },
  {
   "cell_type": "code",
   "execution_count": 41,
   "metadata": {
    "execution": {
     "iopub.status.busy": "2021-09-24T13:21:13.824551Z",
     "iopub.status.idle": "2021-09-24T13:21:13.824916Z",
     "shell.execute_reply": "2021-09-24T13:21:13.824741Z",
     "shell.execute_reply.started": "2021-09-24T13:21:13.824717Z"
    }
   },
   "outputs": [
    {
     "name": "stdout",
     "output_type": "stream",
     "text": [
      "Index([], dtype='object')\n",
      "Index([], dtype='object')\n"
     ]
    }
   ],
   "source": [
    "# lets start encoding these categorical columns to convert them into numerical columns\n",
    "\n",
    "# lets encode the education in their degree of importance \n",
    "train['education'] = train['education'].replace((\"Master's & above\", \"Bachelor's\", \"Below Secondary\"),\n",
    "                                                (3, 2, 1))\n",
    "test['education'] = test['education'].replace((\"Master's & above\", \"Bachelor's\", \"Below Secondary\"),\n",
    "                                                (3, 2, 1))\n",
    "\n",
    "# lets use Label Encoding for Gender and Department to convert them into Numerical\n",
    "from sklearn.preprocessing import LabelEncoder\n",
    "\n",
    "le = LabelEncoder()\n",
    "train['department'] = le.fit_transform(train['department'])\n",
    "test['department'] = le.fit_transform(test['department'])\n",
    "train['gender'] = le.fit_transform(train['gender'])\n",
    "test['gender'] = le.fit_transform(test['gender'])\n",
    "\n",
    "# lets check whether we still have any categorical columns left after encoding\n",
    "print(train.select_dtypes('object').columns)\n",
    "print(test.select_dtypes('object').columns)"
   ]
  },
  {
   "cell_type": "code",
   "execution_count": 42,
   "metadata": {
    "execution": {
     "iopub.status.busy": "2021-09-24T13:21:13.826356Z",
     "iopub.status.idle": "2021-09-24T13:21:13.826761Z",
     "shell.execute_reply": "2021-09-24T13:21:13.826577Z",
     "shell.execute_reply.started": "2021-09-24T13:21:13.826551Z"
    }
   },
   "outputs": [
    {
     "data": {
      "text/html": [
       "<div>\n",
       "<style scoped>\n",
       "    .dataframe tbody tr th:only-of-type {\n",
       "        vertical-align: middle;\n",
       "    }\n",
       "\n",
       "    .dataframe tbody tr th {\n",
       "        vertical-align: top;\n",
       "    }\n",
       "\n",
       "    .dataframe thead th {\n",
       "        text-align: right;\n",
       "    }\n",
       "</style>\n",
       "<table border=\"1\" class=\"dataframe\">\n",
       "  <thead>\n",
       "    <tr style=\"text-align: right;\">\n",
       "      <th></th>\n",
       "      <th>department</th>\n",
       "      <th>education</th>\n",
       "      <th>gender</th>\n",
       "      <th>no_of_trainings</th>\n",
       "      <th>age</th>\n",
       "      <th>previous_year_rating</th>\n",
       "      <th>length_of_service</th>\n",
       "      <th>KPIs_met &gt;80%</th>\n",
       "      <th>awards_won?</th>\n",
       "      <th>avg_training_score</th>\n",
       "      <th>is_promoted</th>\n",
       "      <th>sum_metric</th>\n",
       "      <th>total_score</th>\n",
       "    </tr>\n",
       "  </thead>\n",
       "  <tbody>\n",
       "    <tr>\n",
       "      <th>13</th>\n",
       "      <td>8</td>\n",
       "      <td>3</td>\n",
       "      <td>1</td>\n",
       "      <td>2</td>\n",
       "      <td>39</td>\n",
       "      <td>3.0</td>\n",
       "      <td>16</td>\n",
       "      <td>0</td>\n",
       "      <td>0</td>\n",
       "      <td>80</td>\n",
       "      <td>0</td>\n",
       "      <td>3.0</td>\n",
       "      <td>160</td>\n",
       "    </tr>\n",
       "    <tr>\n",
       "      <th>42</th>\n",
       "      <td>2</td>\n",
       "      <td>2</td>\n",
       "      <td>1</td>\n",
       "      <td>1</td>\n",
       "      <td>59</td>\n",
       "      <td>4.0</td>\n",
       "      <td>26</td>\n",
       "      <td>1</td>\n",
       "      <td>0</td>\n",
       "      <td>52</td>\n",
       "      <td>0</td>\n",
       "      <td>5.0</td>\n",
       "      <td>52</td>\n",
       "    </tr>\n",
       "    <tr>\n",
       "      <th>60</th>\n",
       "      <td>7</td>\n",
       "      <td>3</td>\n",
       "      <td>1</td>\n",
       "      <td>1</td>\n",
       "      <td>50</td>\n",
       "      <td>4.0</td>\n",
       "      <td>17</td>\n",
       "      <td>1</td>\n",
       "      <td>0</td>\n",
       "      <td>47</td>\n",
       "      <td>1</td>\n",
       "      <td>5.0</td>\n",
       "      <td>47</td>\n",
       "    </tr>\n",
       "  </tbody>\n",
       "</table>\n",
       "</div>"
      ],
      "text/plain": [
       "    department  education  gender  no_of_trainings  age  previous_year_rating  \\\n",
       "13           8          3       1                2   39                   3.0   \n",
       "42           2          2       1                1   59                   4.0   \n",
       "60           7          3       1                1   50                   4.0   \n",
       "\n",
       "    length_of_service  KPIs_met >80%  awards_won?  avg_training_score  \\\n",
       "13                 16              0            0                  80   \n",
       "42                 26              1            0                  52   \n",
       "60                 17              1            0                  47   \n",
       "\n",
       "    is_promoted  sum_metric  total_score  \n",
       "13            0         3.0          160  \n",
       "42            0         5.0           52  \n",
       "60            1         5.0           47  "
      ]
     },
     "execution_count": 42,
     "metadata": {},
     "output_type": "execute_result"
    }
   ],
   "source": [
    "# lets check the data after encoding\n",
    "train.head(3)"
   ]
  },
  {
   "cell_type": "markdown",
   "metadata": {},
   "source": [
    "## Splitting the Data\n",
    "\n",
    "This is one of the most Important step to perform Machine Learning Prediction on a Dataset,\n",
    "We have to separate the Target and Independent Columns.\n",
    "* We store the Target Variable in y, and then we store the rest of the columns in x, by deleting the target column from the data\n",
    "* Also, we are changing the name of test dataset to x_test for ease of understanding."
   ]
  },
  {
   "cell_type": "code",
   "execution_count": 43,
   "metadata": {
    "execution": {
     "iopub.status.busy": "2021-09-24T13:21:13.827631Z",
     "iopub.status.idle": "2021-09-24T13:21:13.827973Z",
     "shell.execute_reply": "2021-09-24T13:21:13.827810Z",
     "shell.execute_reply.started": "2021-09-24T13:21:13.827787Z"
    }
   },
   "outputs": [
    {
     "name": "stdout",
     "output_type": "stream",
     "text": [
      "Shape of the x : (3489, 12)\n",
      "Shape of the y : (3489,)\n",
      "Shape of the x Test : (23490, 12)\n"
     ]
    }
   ],
   "source": [
    "# lets split the target data from the train data\n",
    "\n",
    "y = train['is_promoted']\n",
    "x = train.drop(['is_promoted'], axis = 1)\n",
    "x_test = test\n",
    "\n",
    "# lets print the shapes of these newly formed data sets\n",
    "print(\"Shape of the x :\", x.shape)\n",
    "print(\"Shape of the y :\", y.shape)\n",
    "print(\"Shape of the x Test :\", x_test.shape)"
   ]
  },
  {
   "cell_type": "markdown",
   "metadata": {},
   "source": [
    "## Resampling\n",
    "\n",
    "Resampling is the method that consists of drawing repeated samples from the original data samples. The method of Resampling is a nonparametric method of statistical inference.\n",
    "\n",
    "* Earlier, in this Problem we noticed that the Target column is Highly Imbalanced, we need to balance the data by using some Statistical Methods.\n",
    "* There are many Statistical Methods we can use for Resampling the Data such as:\n",
    "    * Over Samping\n",
    "    * Cluster based Sampling\n",
    "    * Under Sampling.\n",
    "    \n",
    "Oversampling and undersampling in data analysis are techniques used to adjust the class distribution of a data set. These terms are used both in statistical sampling, survey design methodology and in machine learning. Oversampling and undersampling are opposite and roughly equivalent techniques\n",
    "    \n",
    "* We are going to use Over Sampling. \n",
    "* We will not use Under Sampling to avoid data loss."
   ]
  },
  {
   "cell_type": "code",
   "execution_count": 44,
   "metadata": {
    "execution": {
     "iopub.status.busy": "2021-09-24T13:21:13.829510Z",
     "iopub.status.idle": "2021-09-24T13:21:13.829866Z",
     "shell.execute_reply": "2021-09-24T13:21:13.829695Z",
     "shell.execute_reply.started": "2021-09-24T13:21:13.829672Z"
    }
   },
   "outputs": [
    {
     "name": "stdout",
     "output_type": "stream",
     "text": [
      "(6510, 12)\n",
      "(6510,)\n"
     ]
    }
   ],
   "source": [
    "# It is very important to resample the data, as the Target class is Highly imbalanced.\n",
    "# Here We are going to use Over Sampling Technique to resample the data.\n",
    "# lets import the SMOTE algorithm to do the same.\n",
    "\n",
    "from imblearn.over_sampling import SMOTE\n",
    "\n",
    "x_resample, y_resample  = SMOTE().fit_resample(x, y.values.ravel())\n",
    "\n",
    "# lets print the shape of x and y after resampling it\n",
    "print(x_resample.shape)\n",
    "print(y_resample.shape)"
   ]
  },
  {
   "cell_type": "code",
   "execution_count": 45,
   "metadata": {
    "execution": {
     "iopub.status.busy": "2021-09-24T13:21:13.831181Z",
     "iopub.status.idle": "2021-09-24T13:21:13.831750Z",
     "shell.execute_reply": "2021-09-24T13:21:13.831457Z",
     "shell.execute_reply.started": "2021-09-24T13:21:13.831432Z"
    }
   },
   "outputs": [
    {
     "name": "stdout",
     "output_type": "stream",
     "text": [
      "Before Resampling :\n",
      "0    3255\n",
      "1     234\n",
      "Name: is_promoted, dtype: int64\n",
      "After Resampling :\n",
      "0    3255\n",
      "1    3255\n",
      "Name: 0, dtype: int64\n"
     ]
    }
   ],
   "source": [
    "# lets also check the value counts of our target variable4\n",
    "\n",
    "print(\"Before Resampling :\")\n",
    "print(y.value_counts())\n",
    "\n",
    "print(\"After Resampling :\")\n",
    "y_resample = pd.DataFrame(y_resample)\n",
    "print(y_resample[0].value_counts())"
   ]
  },
  {
   "cell_type": "code",
   "execution_count": 46,
   "metadata": {
    "execution": {
     "iopub.status.busy": "2021-09-24T13:21:13.833015Z",
     "iopub.status.idle": "2021-09-24T13:21:13.833526Z",
     "shell.execute_reply": "2021-09-24T13:21:13.833259Z",
     "shell.execute_reply.started": "2021-09-24T13:21:13.833235Z"
    }
   },
   "outputs": [
    {
     "name": "stdout",
     "output_type": "stream",
     "text": [
      "Shape of the x Train : (5208, 12)\n",
      "Shape of the y Train : (5208, 1)\n",
      "Shape of the x Valid : (1302, 12)\n",
      "Shape of the y Valid : (1302, 1)\n",
      "Shape of the x Test : (23490, 12)\n"
     ]
    }
   ],
   "source": [
    "# lets create a validation set from the training data so that we can check whether the model that we have created is good enough\n",
    "# lets import the train_test_split library from sklearn to do that\n",
    "\n",
    "from sklearn.model_selection import train_test_split\n",
    "\n",
    "x_train, x_valid, y_train, y_valid = train_test_split(x_resample, y_resample, test_size = 0.2, random_state = 0)\n",
    "\n",
    "# lets print the shapes again \n",
    "print(\"Shape of the x Train :\", x_train.shape)\n",
    "print(\"Shape of the y Train :\", y_train.shape)\n",
    "print(\"Shape of the x Valid :\", x_valid.shape)\n",
    "print(\"Shape of the y Valid :\", y_valid.shape)\n",
    "print(\"Shape of the x Test :\", x_test.shape)"
   ]
  },
  {
   "attachments": {},
   "cell_type": "markdown",
   "metadata": {},
   "source": [
    "## Feature Scaling\n",
    "\n",
    "Feature scaling is a method used to normalize the range of independent variables or features of data. In data processing, it is also known as data normalization and is generally performed during the data preprocessing step"
   ]
  },
  {
   "cell_type": "code",
   "execution_count": 47,
   "metadata": {
    "execution": {
     "iopub.status.busy": "2021-09-24T13:21:13.837699Z",
     "iopub.status.idle": "2021-09-24T13:21:13.838112Z",
     "shell.execute_reply": "2021-09-24T13:21:13.837922Z",
     "shell.execute_reply.started": "2021-09-24T13:21:13.837892Z"
    }
   },
   "outputs": [],
   "source": [
    "# It is very import to scale all the features of the dataset into the same scale\n",
    "# Here, we are going to use the standardization method, which is very commonly used.\n",
    "\n",
    "# lets import the standard scaler library from sklearn to do that\n",
    "from sklearn.preprocessing import StandardScaler\n",
    "\n",
    "sc = StandardScaler()\n",
    "x_train = sc.fit_transform(x_train)\n",
    "x_valid = sc.transform(x_valid)\n",
    "x_test = sc.transform(x_test)"
   ]
  },
  {
   "cell_type": "markdown",
   "metadata": {},
   "source": [
    "\n",
    "##  Machine Learning Predictive Modelling\n",
    "\n",
    "Predictive modeling is a process that uses data and statistics to predict outcomes with data models. These models can be used to predict anything from sports outcomes and TV ratings to technological advances and corporate earnings. Predictive modeling is also often referred to as: Predictive analytics."
   ]
  },
  {
   "cell_type": "markdown",
   "metadata": {},
   "source": [
    "# Decision Tree"
   ]
  },
  {
   "cell_type": "code",
   "execution_count": 48,
   "metadata": {
    "execution": {
     "iopub.status.busy": "2021-09-24T13:21:13.839351Z",
     "iopub.status.idle": "2021-09-24T13:21:13.839730Z",
     "shell.execute_reply": "2021-09-24T13:21:13.839559Z",
     "shell.execute_reply.started": "2021-09-24T13:21:13.839537Z"
    }
   },
   "outputs": [],
   "source": [
    "# Lets use Decision Trees to classify the data\n",
    "from sklearn.tree import DecisionTreeClassifier\n",
    "\n",
    "model = DecisionTreeClassifier()\n",
    "model.fit(x_train, y_train)\n",
    "\n",
    "y_pred = model.predict(x_valid)"
   ]
  },
  {
   "cell_type": "code",
   "execution_count": null,
   "metadata": {},
   "outputs": [],
   "source": []
  },
  {
   "cell_type": "code",
   "execution_count": 49,
   "metadata": {
    "execution": {
     "iopub.status.busy": "2021-09-24T13:21:13.840621Z",
     "iopub.status.idle": "2021-09-24T13:21:13.840968Z",
     "shell.execute_reply": "2021-09-24T13:21:13.840797Z",
     "shell.execute_reply.started": "2021-09-24T13:21:13.840774Z"
    }
   },
   "outputs": [
    {
     "name": "stdout",
     "output_type": "stream",
     "text": [
      "Training Accuracy : 0.9994239631336406\n",
      "Testing Accuracy : 0.9585253456221198\n"
     ]
    },
    {
     "data": {
      "image/png": "[encoded data removed]",
      "text/plain": [
       "<Figure size 216x216 with 2 Axes>"
      ]
     },
     "metadata": {},
     "output_type": "display_data"
    }
   ],
   "source": [
    "from sklearn.metrics import confusion_matrix, classification_report\n",
    "\n",
    "print(\"Training Accuracy :\", model.score(x_train, y_train))\n",
    "print(\"Testing Accuracy :\", model.score(x_valid, y_valid))\n",
    "\n",
    "cm = confusion_matrix(y_valid, y_pred)\n",
    "plt.rcParams['figure.figsize'] = (3, 3)\n",
    "sns.heatmap(cm, annot = True, cmap = 'Wistia', fmt = '.8g')\n",
    "plt.xlabel('Predicted Values')\n",
    "plt.ylabel('Actual Values')\n",
    "plt.show()"
   ]
  },
  {
   "cell_type": "code",
   "execution_count": 50,
   "metadata": {
    "execution": {
     "iopub.status.busy": "2021-09-24T13:21:13.841998Z",
     "iopub.status.idle": "2021-09-24T13:21:13.842362Z",
     "shell.execute_reply": "2021-09-24T13:21:13.842175Z",
     "shell.execute_reply.started": "2021-09-24T13:21:13.842153Z"
    }
   },
   "outputs": [
    {
     "name": "stdout",
     "output_type": "stream",
     "text": [
      "              precision    recall  f1-score   support\n",
      "\n",
      "           0       0.97      0.94      0.96       657\n",
      "           1       0.94      0.97      0.96       645\n",
      "\n",
      "    accuracy                           0.96      1302\n",
      "   macro avg       0.96      0.96      0.96      1302\n",
      "weighted avg       0.96      0.96      0.96      1302\n",
      "\n"
     ]
    }
   ],
   "source": [
    "# lets take a look at the Classification Report\n",
    "\n",
    "cr = classification_report(y_valid, y_pred)\n",
    "print(cr)"
   ]
  },
  {
   "cell_type": "markdown",
   "metadata": {},
   "source": [
    "## Day 5 \n",
    "\n",
    "In the Started our Data Science Journey on Day 2, Today is the last day of our Data Science Journey. Today we will learn how to perform Real Time Predictions using the Model which we have created yesterday.\n",
    "\n",
    "So, lets get started, \n",
    "* First, we we will check the descriptive summary of the data again, so that we can analyze the columns and values which we can provide to the Model as Input and expect the Model to return Output whether the Employee should get a promotion or not.\n",
    "\n",
    "* Then we will define the value for which we want the predction, and then finally we will predict the values."
   ]
  },
  {
   "cell_type": "markdown",
   "metadata": {},
   "source": [
    "## Real Time Prediction"
   ]
  },
  {
   "cell_type": "code",
   "execution_count": 51,
   "metadata": {
    "execution": {
     "iopub.status.busy": "2021-09-24T13:21:13.843571Z",
     "iopub.status.idle": "2021-09-24T13:21:13.843907Z",
     "shell.execute_reply": "2021-09-24T13:21:13.843751Z",
     "shell.execute_reply.started": "2021-09-24T13:21:13.843729Z"
    }
   },
   "outputs": [
    {
     "data": {
      "text/html": [
       "<div>\n",
       "<style scoped>\n",
       "    .dataframe tbody tr th:only-of-type {\n",
       "        vertical-align: middle;\n",
       "    }\n",
       "\n",
       "    .dataframe tbody tr th {\n",
       "        vertical-align: top;\n",
       "    }\n",
       "\n",
       "    .dataframe thead th {\n",
       "        text-align: right;\n",
       "    }\n",
       "</style>\n",
       "<table border=\"1\" class=\"dataframe\">\n",
       "  <thead>\n",
       "    <tr style=\"text-align: right;\">\n",
       "      <th></th>\n",
       "      <th>department</th>\n",
       "      <th>education</th>\n",
       "      <th>gender</th>\n",
       "      <th>no_of_trainings</th>\n",
       "      <th>age</th>\n",
       "      <th>previous_year_rating</th>\n",
       "      <th>length_of_service</th>\n",
       "      <th>KPIs_met &gt;80%</th>\n",
       "      <th>awards_won?</th>\n",
       "      <th>avg_training_score</th>\n",
       "      <th>is_promoted</th>\n",
       "      <th>sum_metric</th>\n",
       "      <th>total_score</th>\n",
       "    </tr>\n",
       "  </thead>\n",
       "  <tbody>\n",
       "    <tr>\n",
       "      <th>count</th>\n",
       "      <td>3489.000000</td>\n",
       "      <td>3489.000000</td>\n",
       "      <td>3489.000000</td>\n",
       "      <td>3489.000000</td>\n",
       "      <td>3489.000000</td>\n",
       "      <td>3489.000000</td>\n",
       "      <td>3489.000000</td>\n",
       "      <td>3489.000000</td>\n",
       "      <td>3489.000000</td>\n",
       "      <td>3489.000000</td>\n",
       "      <td>3489.000000</td>\n",
       "      <td>3489.00000</td>\n",
       "      <td>3489.000000</td>\n",
       "    </tr>\n",
       "    <tr>\n",
       "      <th>mean</th>\n",
       "      <td>5.381198</td>\n",
       "      <td>2.504156</td>\n",
       "      <td>0.697334</td>\n",
       "      <td>1.168243</td>\n",
       "      <td>49.145027</td>\n",
       "      <td>3.302379</td>\n",
       "      <td>17.629120</td>\n",
       "      <td>0.241903</td>\n",
       "      <td>0.008598</td>\n",
       "      <td>62.071081</td>\n",
       "      <td>0.067068</td>\n",
       "      <td>3.55288</td>\n",
       "      <td>72.591574</td>\n",
       "    </tr>\n",
       "    <tr>\n",
       "      <th>std</th>\n",
       "      <td>2.125439</td>\n",
       "      <td>0.500054</td>\n",
       "      <td>0.459478</td>\n",
       "      <td>0.506902</td>\n",
       "      <td>5.423166</td>\n",
       "      <td>1.230116</td>\n",
       "      <td>3.712584</td>\n",
       "      <td>0.428297</td>\n",
       "      <td>0.092342</td>\n",
       "      <td>12.285130</td>\n",
       "      <td>0.250175</td>\n",
       "      <td>1.45818</td>\n",
       "      <td>35.119410</td>\n",
       "    </tr>\n",
       "    <tr>\n",
       "      <th>min</th>\n",
       "      <td>0.000000</td>\n",
       "      <td>2.000000</td>\n",
       "      <td>0.000000</td>\n",
       "      <td>1.000000</td>\n",
       "      <td>37.000000</td>\n",
       "      <td>1.000000</td>\n",
       "      <td>14.000000</td>\n",
       "      <td>0.000000</td>\n",
       "      <td>0.000000</td>\n",
       "      <td>40.000000</td>\n",
       "      <td>0.000000</td>\n",
       "      <td>1.00000</td>\n",
       "      <td>40.000000</td>\n",
       "    </tr>\n",
       "    <tr>\n",
       "      <th>25%</th>\n",
       "      <td>4.000000</td>\n",
       "      <td>2.000000</td>\n",
       "      <td>0.000000</td>\n",
       "      <td>1.000000</td>\n",
       "      <td>45.000000</td>\n",
       "      <td>3.000000</td>\n",
       "      <td>15.000000</td>\n",
       "      <td>0.000000</td>\n",
       "      <td>0.000000</td>\n",
       "      <td>51.000000</td>\n",
       "      <td>0.000000</td>\n",
       "      <td>3.00000</td>\n",
       "      <td>52.000000</td>\n",
       "    </tr>\n",
       "    <tr>\n",
       "      <th>50%</th>\n",
       "      <td>5.000000</td>\n",
       "      <td>3.000000</td>\n",
       "      <td>1.000000</td>\n",
       "      <td>1.000000</td>\n",
       "      <td>48.000000</td>\n",
       "      <td>3.000000</td>\n",
       "      <td>17.000000</td>\n",
       "      <td>0.000000</td>\n",
       "      <td>0.000000</td>\n",
       "      <td>60.000000</td>\n",
       "      <td>0.000000</td>\n",
       "      <td>3.00000</td>\n",
       "      <td>62.000000</td>\n",
       "    </tr>\n",
       "    <tr>\n",
       "      <th>75%</th>\n",
       "      <td>7.000000</td>\n",
       "      <td>3.000000</td>\n",
       "      <td>1.000000</td>\n",
       "      <td>1.000000</td>\n",
       "      <td>53.000000</td>\n",
       "      <td>4.000000</td>\n",
       "      <td>19.000000</td>\n",
       "      <td>0.000000</td>\n",
       "      <td>0.000000</td>\n",
       "      <td>71.000000</td>\n",
       "      <td>0.000000</td>\n",
       "      <td>5.00000</td>\n",
       "      <td>79.000000</td>\n",
       "    </tr>\n",
       "    <tr>\n",
       "      <th>max</th>\n",
       "      <td>8.000000</td>\n",
       "      <td>3.000000</td>\n",
       "      <td>1.000000</td>\n",
       "      <td>7.000000</td>\n",
       "      <td>60.000000</td>\n",
       "      <td>5.000000</td>\n",
       "      <td>37.000000</td>\n",
       "      <td>1.000000</td>\n",
       "      <td>1.000000</td>\n",
       "      <td>99.000000</td>\n",
       "      <td>1.000000</td>\n",
       "      <td>7.00000</td>\n",
       "      <td>469.000000</td>\n",
       "    </tr>\n",
       "  </tbody>\n",
       "</table>\n",
       "</div>"
      ],
      "text/plain": [
       "        department    education       gender  no_of_trainings          age  \\\n",
       "count  3489.000000  3489.000000  3489.000000      3489.000000  3489.000000   \n",
       "mean      5.381198     2.504156     0.697334         1.168243    49.145027   \n",
       "std       2.125439     0.500054     0.459478         0.506902     5.423166   \n",
       "min       0.000000     2.000000     0.000000         1.000000    37.000000   \n",
       "25%       4.000000     2.000000     0.000000         1.000000    45.000000   \n",
       "50%       5.000000     3.000000     1.000000         1.000000    48.000000   \n",
       "75%       7.000000     3.000000     1.000000         1.000000    53.000000   \n",
       "max       8.000000     3.000000     1.000000         7.000000    60.000000   \n",
       "\n",
       "       previous_year_rating  length_of_service  KPIs_met >80%  awards_won?  \\\n",
       "count           3489.000000        3489.000000    3489.000000  3489.000000   \n",
       "mean               3.302379          17.629120       0.241903     0.008598   \n",
       "std                1.230116           3.712584       0.428297     0.092342   \n",
       "min                1.000000          14.000000       0.000000     0.000000   \n",
       "25%                3.000000          15.000000       0.000000     0.000000   \n",
       "50%                3.000000          17.000000       0.000000     0.000000   \n",
       "75%                4.000000          19.000000       0.000000     0.000000   \n",
       "max                5.000000          37.000000       1.000000     1.000000   \n",
       "\n",
       "       avg_training_score  is_promoted  sum_metric  total_score  \n",
       "count         3489.000000  3489.000000  3489.00000  3489.000000  \n",
       "mean            62.071081     0.067068     3.55288    72.591574  \n",
       "std             12.285130     0.250175     1.45818    35.119410  \n",
       "min             40.000000     0.000000     1.00000    40.000000  \n",
       "25%             51.000000     0.000000     3.00000    52.000000  \n",
       "50%             60.000000     0.000000     3.00000    62.000000  \n",
       "75%             71.000000     0.000000     5.00000    79.000000  \n",
       "max             99.000000     1.000000     7.00000   469.000000  "
      ]
     },
     "execution_count": 51,
     "metadata": {},
     "output_type": "execute_result"
    }
   ],
   "source": [
    "train.describe()"
   ]
  },
  {
   "cell_type": "raw",
   "metadata": {},
   "source": [
    "# lets perform some Real time predictions on top of the Model that we just created using Decision Tree Classifier\n",
    "\n",
    "# lets check the parameters we have in our Model\n",
    "'''\n",
    "department -> The values are from 0 to 8, (Department does not matter a lot for promotion)\n",
    "education -> The values are from 0 to 3 where Masters-> 3, Btech -> 2, and secondary ed -> 1\n",
    "gender -> the values are 0 for female, and 1 for male\n",
    "no_of_trainings -> the values are from 0 to 5\n",
    "age -> the values are from 20 to 60\n",
    "previou_year_rating -> The values are from 1 to 5\n",
    "length_of service -> The values are from 1 to 37\n",
    "KPIs_met >80% -> 0 for Not Met and 1 for Met\n",
    "awards_won> -> 0-no, and 1-yes\n",
    "avg_training_score -> ranges from 40 to 99\n",
    "sum_metric -> ranges from 1 to 7\n",
    "total_score -> 40 to 710\n",
    "'''"
   ]
  },
  {
   "cell_type": "code",
   "execution_count": null,
   "metadata": {
    "execution": {
     "iopub.status.busy": "2021-09-24T13:21:13.845103Z",
     "iopub.status.idle": "2021-09-24T13:21:13.845458Z",
     "shell.execute_reply": "2021-09-24T13:21:13.845299Z",
     "shell.execute_reply.started": "2021-09-24T13:21:13.845261Z"
    }
   },
   "outputs": [],
   "source": []
  },
  {
   "cell_type": "markdown",
   "metadata": {},
   "source": [
    "**Here comes to an end to this session, where we predicted whether an employee belonging to an organization should get a promotion or not using Logistic Regression and Decision Trees.**\n",
    "\n",
    "**We also used Feature Selection, and Hyper Parameter Tuning to Improve the Model**.\n",
    "\n",
    "**This is the end of this Project, Now lets understand how to present this project to a client or Managers using Presentations, Reports, Conclussions, and Visualizations**\n",
    "\n"
   ]
  },
  {
   "cell_type": "markdown",
   "metadata": {},
   "source": [
    "## Q1. Does Older Employees getting more Promotion than Younger Employees?"
   ]
  },
  {
   "cell_type": "code",
   "execution_count": 88,
   "metadata": {
    "execution": {
     "iopub.status.busy": "2021-09-24T13:21:13.846675Z",
     "iopub.status.idle": "2021-09-24T13:21:13.847051Z",
     "shell.execute_reply": "2021-09-24T13:21:13.846857Z",
     "shell.execute_reply.started": "2021-09-24T13:21:13.846834Z"
    }
   },
   "outputs": [
    {
     "name": "stdout",
     "output_type": "stream",
     "text": [
      "Minimum age is 20 and Maximum age is  60\n"
     ]
    }
   ],
   "source": [
    "data = pd.read_csv('train.csv')\n",
    "max_age = data['age'].max()\n",
    "min_age = data['age'].min()\n",
    "print('Minimum age is {} and Maximum age is  {}'.format(min_age, max_age))"
   ]
  },
  {
   "cell_type": "code",
   "execution_count": 89,
   "metadata": {
    "execution": {
     "iopub.status.busy": "2021-09-24T13:21:13.849009Z",
     "iopub.status.idle": "2021-09-24T13:21:13.849391Z",
     "shell.execute_reply": "2021-09-24T13:21:13.849207Z",
     "shell.execute_reply.started": "2021-09-24T13:21:13.849182Z"
    }
   },
   "outputs": [],
   "source": [
    "# lets consider all the employees under 30 as young and otherwise as old\n",
    "\n",
    "young_employees = data[data['age'] <= 30]\n",
    "old_employees = data[data['age'] > 30]"
   ]
  },
  {
   "cell_type": "code",
   "execution_count": 90,
   "metadata": {
    "execution": {
     "iopub.status.busy": "2021-09-24T13:21:13.850224Z",
     "iopub.status.idle": "2021-09-24T13:21:13.850600Z",
     "shell.execute_reply": "2021-09-24T13:21:13.850438Z",
     "shell.execute_reply.started": "2021-09-24T13:21:13.850414Z"
    }
   },
   "outputs": [
    {
     "data": {
      "text/plain": [
       "0    16568\n",
       "1     1550\n",
       "Name: is_promoted, dtype: int64"
      ]
     },
     "execution_count": 90,
     "metadata": {},
     "output_type": "execute_result"
    }
   ],
   "source": [
    "# Now Lets check the Percentage of Employees getting Promotion from Young and Old Group of Employees.\n",
    "\n",
    "young_employees['is_promoted'].value_counts()"
   ]
  },
  {
   "cell_type": "code",
   "execution_count": 91,
   "metadata": {
    "execution": {
     "iopub.status.busy": "2021-09-24T13:21:13.851869Z",
     "iopub.status.idle": "2021-09-24T13:21:13.852248Z",
     "shell.execute_reply": "2021-09-24T13:21:13.852084Z",
     "shell.execute_reply.started": "2021-09-24T13:21:13.852060Z"
    }
   },
   "outputs": [
    {
     "data": {
      "text/plain": [
       "0    33572\n",
       "1     3118\n",
       "Name: is_promoted, dtype: int64"
      ]
     },
     "execution_count": 91,
     "metadata": {},
     "output_type": "execute_result"
    }
   ],
   "source": [
    "# Now Lets check the Percentage of Employees getting Promotion from Young and Old Group of Employees.\n",
    "\n",
    "old_employees['is_promoted'].value_counts()"
   ]
  },
  {
   "cell_type": "code",
   "execution_count": 92,
   "metadata": {
    "execution": {
     "iopub.status.busy": "2021-09-24T13:21:13.854726Z",
     "iopub.status.idle": "2021-09-24T13:21:13.855089Z",
     "shell.execute_reply": "2021-09-24T13:21:13.854920Z",
     "shell.execute_reply.started": "2021-09-24T13:21:13.854898Z"
    }
   },
   "outputs": [
    {
     "name": "stdout",
     "output_type": "stream",
     "text": [
      "0.08854709373442668 0.07114735658042745\n"
     ]
    }
   ],
   "source": [
    "perc_young = 3909/(40237+3909)  # young_employees[young_employees['is_promorted'] == 1]/young_employees.shape[0]\n",
    "perc_old = 759/(9909+759)\n",
    "\n",
    "print(perc_young, perc_old)"
   ]
  },
  {
   "cell_type": "markdown",
   "metadata": {},
   "source": [
    "### Q2. What is the Probability to get Promoted, If an employeed has won an award?"
   ]
  },
  {
   "cell_type": "code",
   "execution_count": 93,
   "metadata": {
    "execution": {
     "iopub.status.busy": "2021-09-24T13:21:13.856834Z",
     "iopub.status.idle": "2021-09-24T13:21:13.857198Z",
     "shell.execute_reply": "2021-09-24T13:21:13.857021Z",
     "shell.execute_reply.started": "2021-09-24T13:21:13.857005Z"
    }
   },
   "outputs": [
    {
     "data": {
      "text/html": [
       "<div>\n",
       "<style scoped>\n",
       "    .dataframe tbody tr th:only-of-type {\n",
       "        vertical-align: middle;\n",
       "    }\n",
       "\n",
       "    .dataframe tbody tr th {\n",
       "        vertical-align: top;\n",
       "    }\n",
       "\n",
       "    .dataframe thead th {\n",
       "        text-align: right;\n",
       "    }\n",
       "</style>\n",
       "<table border=\"1\" class=\"dataframe\">\n",
       "  <thead>\n",
       "    <tr style=\"text-align: right;\">\n",
       "      <th></th>\n",
       "      <th>employee_id</th>\n",
       "      <th>department</th>\n",
       "      <th>region</th>\n",
       "      <th>education</th>\n",
       "      <th>gender</th>\n",
       "      <th>recruitment_channel</th>\n",
       "      <th>no_of_trainings</th>\n",
       "      <th>age</th>\n",
       "      <th>previous_year_rating</th>\n",
       "      <th>length_of_service</th>\n",
       "      <th>KPIs_met &gt;80%</th>\n",
       "      <th>awards_won?</th>\n",
       "      <th>avg_training_score</th>\n",
       "      <th>is_promoted</th>\n",
       "    </tr>\n",
       "  </thead>\n",
       "  <tbody>\n",
       "    <tr>\n",
       "      <th>0</th>\n",
       "      <td>65438</td>\n",
       "      <td>Sales &amp; Marketing</td>\n",
       "      <td>region_7</td>\n",
       "      <td>Master's &amp; above</td>\n",
       "      <td>f</td>\n",
       "      <td>sourcing</td>\n",
       "      <td>1</td>\n",
       "      <td>35</td>\n",
       "      <td>5.0</td>\n",
       "      <td>8</td>\n",
       "      <td>1</td>\n",
       "      <td>0</td>\n",
       "      <td>49</td>\n",
       "      <td>0</td>\n",
       "    </tr>\n",
       "    <tr>\n",
       "      <th>1</th>\n",
       "      <td>65141</td>\n",
       "      <td>Operations</td>\n",
       "      <td>region_22</td>\n",
       "      <td>Bachelor's</td>\n",
       "      <td>m</td>\n",
       "      <td>other</td>\n",
       "      <td>1</td>\n",
       "      <td>30</td>\n",
       "      <td>5.0</td>\n",
       "      <td>4</td>\n",
       "      <td>0</td>\n",
       "      <td>0</td>\n",
       "      <td>60</td>\n",
       "      <td>0</td>\n",
       "    </tr>\n",
       "    <tr>\n",
       "      <th>2</th>\n",
       "      <td>7513</td>\n",
       "      <td>Sales &amp; Marketing</td>\n",
       "      <td>region_19</td>\n",
       "      <td>Bachelor's</td>\n",
       "      <td>m</td>\n",
       "      <td>sourcing</td>\n",
       "      <td>1</td>\n",
       "      <td>34</td>\n",
       "      <td>3.0</td>\n",
       "      <td>7</td>\n",
       "      <td>0</td>\n",
       "      <td>0</td>\n",
       "      <td>50</td>\n",
       "      <td>0</td>\n",
       "    </tr>\n",
       "    <tr>\n",
       "      <th>3</th>\n",
       "      <td>2542</td>\n",
       "      <td>Sales &amp; Marketing</td>\n",
       "      <td>region_23</td>\n",
       "      <td>Bachelor's</td>\n",
       "      <td>m</td>\n",
       "      <td>other</td>\n",
       "      <td>2</td>\n",
       "      <td>39</td>\n",
       "      <td>1.0</td>\n",
       "      <td>10</td>\n",
       "      <td>0</td>\n",
       "      <td>0</td>\n",
       "      <td>50</td>\n",
       "      <td>0</td>\n",
       "    </tr>\n",
       "    <tr>\n",
       "      <th>4</th>\n",
       "      <td>48945</td>\n",
       "      <td>Technology</td>\n",
       "      <td>region_26</td>\n",
       "      <td>Bachelor's</td>\n",
       "      <td>m</td>\n",
       "      <td>other</td>\n",
       "      <td>1</td>\n",
       "      <td>45</td>\n",
       "      <td>3.0</td>\n",
       "      <td>2</td>\n",
       "      <td>0</td>\n",
       "      <td>0</td>\n",
       "      <td>73</td>\n",
       "      <td>0</td>\n",
       "    </tr>\n",
       "    <tr>\n",
       "      <th>...</th>\n",
       "      <td>...</td>\n",
       "      <td>...</td>\n",
       "      <td>...</td>\n",
       "      <td>...</td>\n",
       "      <td>...</td>\n",
       "      <td>...</td>\n",
       "      <td>...</td>\n",
       "      <td>...</td>\n",
       "      <td>...</td>\n",
       "      <td>...</td>\n",
       "      <td>...</td>\n",
       "      <td>...</td>\n",
       "      <td>...</td>\n",
       "      <td>...</td>\n",
       "    </tr>\n",
       "    <tr>\n",
       "      <th>54803</th>\n",
       "      <td>3030</td>\n",
       "      <td>Technology</td>\n",
       "      <td>region_14</td>\n",
       "      <td>Bachelor's</td>\n",
       "      <td>m</td>\n",
       "      <td>sourcing</td>\n",
       "      <td>1</td>\n",
       "      <td>48</td>\n",
       "      <td>3.0</td>\n",
       "      <td>17</td>\n",
       "      <td>0</td>\n",
       "      <td>0</td>\n",
       "      <td>78</td>\n",
       "      <td>0</td>\n",
       "    </tr>\n",
       "    <tr>\n",
       "      <th>54804</th>\n",
       "      <td>74592</td>\n",
       "      <td>Operations</td>\n",
       "      <td>region_27</td>\n",
       "      <td>Master's &amp; above</td>\n",
       "      <td>f</td>\n",
       "      <td>other</td>\n",
       "      <td>1</td>\n",
       "      <td>37</td>\n",
       "      <td>2.0</td>\n",
       "      <td>6</td>\n",
       "      <td>0</td>\n",
       "      <td>0</td>\n",
       "      <td>56</td>\n",
       "      <td>0</td>\n",
       "    </tr>\n",
       "    <tr>\n",
       "      <th>54805</th>\n",
       "      <td>13918</td>\n",
       "      <td>Analytics</td>\n",
       "      <td>region_1</td>\n",
       "      <td>Bachelor's</td>\n",
       "      <td>m</td>\n",
       "      <td>other</td>\n",
       "      <td>1</td>\n",
       "      <td>27</td>\n",
       "      <td>5.0</td>\n",
       "      <td>3</td>\n",
       "      <td>1</td>\n",
       "      <td>0</td>\n",
       "      <td>79</td>\n",
       "      <td>0</td>\n",
       "    </tr>\n",
       "    <tr>\n",
       "      <th>54806</th>\n",
       "      <td>13614</td>\n",
       "      <td>Sales &amp; Marketing</td>\n",
       "      <td>region_9</td>\n",
       "      <td>NaN</td>\n",
       "      <td>m</td>\n",
       "      <td>sourcing</td>\n",
       "      <td>1</td>\n",
       "      <td>29</td>\n",
       "      <td>1.0</td>\n",
       "      <td>2</td>\n",
       "      <td>0</td>\n",
       "      <td>0</td>\n",
       "      <td>45</td>\n",
       "      <td>0</td>\n",
       "    </tr>\n",
       "    <tr>\n",
       "      <th>54807</th>\n",
       "      <td>51526</td>\n",
       "      <td>HR</td>\n",
       "      <td>region_22</td>\n",
       "      <td>Bachelor's</td>\n",
       "      <td>m</td>\n",
       "      <td>other</td>\n",
       "      <td>1</td>\n",
       "      <td>27</td>\n",
       "      <td>1.0</td>\n",
       "      <td>5</td>\n",
       "      <td>0</td>\n",
       "      <td>0</td>\n",
       "      <td>49</td>\n",
       "      <td>0</td>\n",
       "    </tr>\n",
       "  </tbody>\n",
       "</table>\n",
       "<p>54808 rows × 14 columns</p>\n",
       "</div>"
      ],
      "text/plain": [
       "       employee_id         department     region         education gender  \\\n",
       "0            65438  Sales & Marketing   region_7  Master's & above      f   \n",
       "1            65141         Operations  region_22        Bachelor's      m   \n",
       "2             7513  Sales & Marketing  region_19        Bachelor's      m   \n",
       "3             2542  Sales & Marketing  region_23        Bachelor's      m   \n",
       "4            48945         Technology  region_26        Bachelor's      m   \n",
       "...            ...                ...        ...               ...    ...   \n",
       "54803         3030         Technology  region_14        Bachelor's      m   \n",
       "54804        74592         Operations  region_27  Master's & above      f   \n",
       "54805        13918          Analytics   region_1        Bachelor's      m   \n",
       "54806        13614  Sales & Marketing   region_9               NaN      m   \n",
       "54807        51526                 HR  region_22        Bachelor's      m   \n",
       "\n",
       "      recruitment_channel  no_of_trainings  age  previous_year_rating  \\\n",
       "0                sourcing                1   35                   5.0   \n",
       "1                   other                1   30                   5.0   \n",
       "2                sourcing                1   34                   3.0   \n",
       "3                   other                2   39                   1.0   \n",
       "4                   other                1   45                   3.0   \n",
       "...                   ...              ...  ...                   ...   \n",
       "54803            sourcing                1   48                   3.0   \n",
       "54804               other                1   37                   2.0   \n",
       "54805               other                1   27                   5.0   \n",
       "54806            sourcing                1   29                   1.0   \n",
       "54807               other                1   27                   1.0   \n",
       "\n",
       "       length_of_service  KPIs_met >80%  awards_won?  avg_training_score  \\\n",
       "0                      8              1            0                  49   \n",
       "1                      4              0            0                  60   \n",
       "2                      7              0            0                  50   \n",
       "3                     10              0            0                  50   \n",
       "4                      2              0            0                  73   \n",
       "...                  ...            ...          ...                 ...   \n",
       "54803                 17              0            0                  78   \n",
       "54804                  6              0            0                  56   \n",
       "54805                  3              1            0                  79   \n",
       "54806                  2              0            0                  45   \n",
       "54807                  5              0            0                  49   \n",
       "\n",
       "       is_promoted  \n",
       "0                0  \n",
       "1                0  \n",
       "2                0  \n",
       "3                0  \n",
       "4                0  \n",
       "...            ...  \n",
       "54803            0  \n",
       "54804            0  \n",
       "54805            0  \n",
       "54806            0  \n",
       "54807            0  \n",
       "\n",
       "[54808 rows x 14 columns]"
      ]
     },
     "execution_count": 93,
     "metadata": {},
     "output_type": "execute_result"
    }
   ],
   "source": [
    "# lets check the count of employees who got promotion \n",
    "\n",
    "award_wining_employees = data[data['awards_won?'] == 1]\n",
    "# award_wining_employees['is_promoted'].value_counts()\n",
    "data"
   ]
  },
  {
   "cell_type": "code",
   "execution_count": 94,
   "metadata": {
    "execution": {
     "iopub.status.busy": "2021-09-24T13:21:13.858431Z",
     "iopub.status.idle": "2021-09-24T13:21:13.858772Z",
     "shell.execute_reply": "2021-09-24T13:21:13.858618Z",
     "shell.execute_reply.started": "2021-09-24T13:21:13.858602Z"
    }
   },
   "outputs": [
    {
     "name": "stdout",
     "output_type": "stream",
     "text": [
      "The Probability of an Employee to get Promotion is : 44.02%\n"
     ]
    }
   ],
   "source": [
    "# let check the Probability of the employees getting promoted after wining an award\n",
    "\n",
    "# probability = award_wining_employees[award_wining_employees['is_promoted'] == 1].shape[0]/data.shape[0]\n",
    "probability = 559/(559+711)\n",
    "print(\"The Probability of an Employee to get Promotion is : {0:.2f}%\".format(probability*100))"
   ]
  },
  {
   "cell_type": "code",
   "execution_count": 95,
   "metadata": {
    "execution": {
     "iopub.status.busy": "2021-09-24T13:21:13.859746Z",
     "iopub.status.idle": "2021-09-24T13:21:13.860105Z",
     "shell.execute_reply": "2021-09-24T13:21:13.859927Z",
     "shell.execute_reply.started": "2021-09-24T13:21:13.859912Z"
    }
   },
   "outputs": [
    {
     "data": {
      "text/plain": [
       "0    49429\n",
       "1     4109\n",
       "Name: is_promoted, dtype: int64"
      ]
     },
     "execution_count": 95,
     "metadata": {},
     "output_type": "execute_result"
    }
   ],
   "source": [
    "award_wining_employees = data[data['awards_won?'] == 0]\n",
    "award_wining_employees['is_promoted'].value_counts()"
   ]
  },
  {
   "cell_type": "code",
   "execution_count": 96,
   "metadata": {
    "execution": {
     "iopub.status.busy": "2021-09-24T13:21:13.861027Z",
     "iopub.status.idle": "2021-09-24T13:21:13.861397Z",
     "shell.execute_reply": "2021-09-24T13:21:13.861191Z",
     "shell.execute_reply.started": "2021-09-24T13:21:13.861175Z"
    }
   },
   "outputs": [
    {
     "data": {
      "text/plain": [
       "0.0767492248496395"
      ]
     },
     "execution_count": 96,
     "metadata": {},
     "output_type": "execute_result"
    }
   ],
   "source": [
    "x = 4109/(4109+49429)\n",
    "x"
   ]
  },
  {
   "cell_type": "markdown",
   "metadata": {},
   "source": [
    "## Q3. What is the Average Training Score of those Employees who got Promotion?"
   ]
  },
  {
   "cell_type": "code",
   "execution_count": 97,
   "metadata": {
    "execution": {
     "iopub.status.busy": "2021-09-24T13:21:13.862578Z",
     "iopub.status.idle": "2021-09-24T13:21:13.862906Z",
     "shell.execute_reply": "2021-09-24T13:21:13.862744Z",
     "shell.execute_reply.started": "2021-09-24T13:21:13.862728Z"
    }
   },
   "outputs": [
    {
     "name": "stdout",
     "output_type": "stream",
     "text": [
      "The Average Training Score for the Employees who got Promotion is 71\n"
     ]
    }
   ],
   "source": [
    "promoted_employees = data[data['is_promoted'] == 1]\n",
    "avg_training_score_promoted_emp = promoted_employees['avg_training_score'].mean()\n",
    "print(\"The Average Training Score for the Employees who got Promotion is {0:.0f}\".format(avg_training_score_promoted_emp))"
   ]
  },
  {
   "cell_type": "markdown",
   "metadata": {},
   "source": [
    "## Q4. What is the Impact of Gender in Promotions?"
   ]
  },
  {
   "cell_type": "code",
   "execution_count": 98,
   "metadata": {
    "execution": {
     "iopub.status.busy": "2021-09-24T13:21:13.864536Z",
     "iopub.status.idle": "2021-09-24T13:21:13.864863Z",
     "shell.execute_reply": "2021-09-24T13:21:13.864709Z",
     "shell.execute_reply.started": "2021-09-24T13:21:13.864692Z"
    }
   },
   "outputs": [
    {
     "data": {
      "text/plain": [
       "m    38496\n",
       "f    16312\n",
       "Name: gender, dtype: int64"
      ]
     },
     "execution_count": 98,
     "metadata": {},
     "output_type": "execute_result"
    }
   ],
   "source": [
    "# lets check the gender gap in total employees\n",
    "\n",
    "data['gender'].value_counts()"
   ]
  },
  {
   "cell_type": "code",
   "execution_count": 99,
   "metadata": {
    "execution": {
     "iopub.status.busy": "2021-09-24T13:21:13.866212Z",
     "iopub.status.idle": "2021-09-24T13:21:13.866580Z",
     "shell.execute_reply": "2021-09-24T13:21:13.866430Z",
     "shell.execute_reply.started": "2021-09-24T13:21:13.866413Z"
    }
   },
   "outputs": [
    {
     "data": {
      "text/plain": [
       "m    3201\n",
       "f    1467\n",
       "Name: gender, dtype: int64"
      ]
     },
     "execution_count": 99,
     "metadata": {},
     "output_type": "execute_result"
    }
   ],
   "source": [
    "# lets check the Gender Gap in Promotion\n",
    "\n",
    "promoted_employees['gender'].value_counts()"
   ]
  },
  {
   "cell_type": "code",
   "execution_count": 100,
   "metadata": {
    "execution": {
     "iopub.status.busy": "2021-09-24T13:21:13.867698Z",
     "iopub.status.idle": "2021-09-24T13:21:13.868054Z",
     "shell.execute_reply": "2021-09-24T13:21:13.867905Z",
     "shell.execute_reply.started": "2021-09-24T13:21:13.867888Z"
    }
   },
   "outputs": [
    {
     "name": "stdout",
     "output_type": "stream",
     "text": [
      "0.08315149625935161 0.08993379107405591\n"
     ]
    }
   ],
   "source": [
    "m_prom = 3201/38496\n",
    "f_prom = 1467/16312\n",
    "print(m_prom, f_prom)"
   ]
  },
  {
   "cell_type": "markdown",
   "metadata": {},
   "source": [
    "## Q5. What is the Probability of Freshers getting Promoted?"
   ]
  },
  {
   "cell_type": "code",
   "execution_count": 101,
   "metadata": {
    "execution": {
     "iopub.status.busy": "2021-09-24T13:21:13.869611Z",
     "iopub.status.idle": "2021-09-24T13:21:13.869971Z",
     "shell.execute_reply": "2021-09-24T13:21:13.869784Z",
     "shell.execute_reply.started": "2021-09-24T13:21:13.869768Z"
    }
   },
   "outputs": [
    {
     "data": {
      "text/plain": [
       "0    8057\n",
       "1     743\n",
       "Name: is_promoted, dtype: int64"
      ]
     },
     "execution_count": 101,
     "metadata": {},
     "output_type": "execute_result"
    }
   ],
   "source": [
    "# lets consider the employees who have worked for less than equal to two years\n",
    "\n",
    "freshers = data[(data['length_of_service'] <= 2) & (data['age'] <= 30)]\n",
    "freshers['is_promoted'].value_counts()"
   ]
  },
  {
   "cell_type": "code",
   "execution_count": 102,
   "metadata": {
    "execution": {
     "iopub.status.busy": "2021-09-24T13:21:13.871141Z",
     "iopub.status.idle": "2021-09-24T13:21:13.871481Z",
     "shell.execute_reply": "2021-09-24T13:21:13.871325Z",
     "shell.execute_reply.started": "2021-09-24T13:21:13.871308Z"
    }
   },
   "outputs": [
    {
     "name": "stdout",
     "output_type": "stream",
     "text": [
      "Probability of a Fresher being Promoted is 8.44%\n"
     ]
    }
   ],
   "source": [
    "# lets check the Percentage also\n",
    "\n",
    "prob = 743/(8057+743)\n",
    "print(\"Probability of a Fresher being Promoted is {0:.2f}%\".format(prob*100))"
   ]
  },
  {
   "cell_type": "markdown",
   "metadata": {},
   "source": []
  },
  {
   "cell_type": "markdown",
   "metadata": {},
   "source": [
    "** I have performed a full exploratory data analysis on the given dataset(Employee Promotion Analysis),\n",
    "   and found whatever insights I can in the dataset.\n",
    "   And also visualized the dataset using univariate,bivariate and multivariate analysis.\n",
    "   Now, I think, the data is alright for data preprocessing.\n"
   ]
  }
 ],
 "metadata": {
  "kernelspec": {
   "display_name": "Python 3 (ipykernel)",
   "language": "python",
   "name": "python3"
  },
  "language_info": {
   "codemirror_mode": {
    "name": "ipython",
    "version": 3
   },
   "file_extension": ".py",
   "mimetype": "text/x-python",
   "name": "python",
   "nbconvert_exporter": "python",
   "pygments_lexer": "ipython3",
   "version": "3.9.12"
  }
 },
 "nbformat": 4,
 "nbformat_minor": 4
}
